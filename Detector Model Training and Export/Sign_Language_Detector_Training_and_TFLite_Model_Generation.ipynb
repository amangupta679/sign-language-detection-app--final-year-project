{
  "nbformat": 4,
  "nbformat_minor": 0,
  "metadata": {
    "colab": {
      "name": "Sign Language Detector - Training and TFLite Model Generation.ipynb",
      "provenance": [],
      "collapsed_sections": [],
      "toc_visible": true
    },
    "kernelspec": {
      "name": "python3",
      "display_name": "Python 3"
    },
    "accelerator": "GPU"
  },
  "cells": [
    {
      "cell_type": "markdown",
      "metadata": {
        "id": "mJz_ToJtkufM"
      },
      "source": [
        "# Sign Language Alphabet Detection - Training and TFLite Model Generation\n",
        "\n",
        "This notebook **objectives** are:\n",
        "\n",
        "1. Setup and configure Tensorflow Object Detection environment for training deep learning model.\n",
        "2. Download and store Sign Language letters dataset.\n",
        "3. Configure MobileNet SSDv2 model pipeline for training with such dataset,\n",
        "4. Train model.\n",
        "5. Export trained model to TFLite.\n",
        "\n",
        "---"
      ]
    },
    {
      "cell_type": "markdown",
      "source": [
        "Code adapted from:\n",
        "- https://github.com/luxonis/depthai-ml-training/tree/master/colab-notebooks.\n",
        "- https://colab.research.google.com/github/luxonis/depthai-ml-training/blob/master/colab-notebooks/Easy_Object_Detection_Demo_Training.ipynb\n",
        "\n",
        "Dataset from:\n",
        "- https://public.roboflow.com/object-detection/american-sign-language-letters\n"
      ],
      "metadata": {
        "id": "HtiAa1p-_rC7"
      }
    },
    {
      "cell_type": "markdown",
      "metadata": {
        "id": "3TEgconcGvVK"
      },
      "source": [
        "## Install Training Environment Dependencies and Configs"
      ]
    },
    {
      "cell_type": "code",
      "source": [
        "!python --version"
      ],
      "metadata": {
        "id": "jxmVDInlVCkm"
      },
      "execution_count": null,
      "outputs": []
    },
    {
      "cell_type": "code",
      "source": [
        " ##!pip install --upgrade numpy\n",
        "!pip install numpy==1.19.5"
      ],
      "metadata": {
        "id": "S2QxfGbnwwvB"
      },
      "execution_count": null,
      "outputs": []
    },
    {
      "cell_type": "code",
      "metadata": {
        "id": "pH1x08R-yM-L"
      },
      "source": [
        "# %%capture\n",
        "#After this cell executes runtime will restart to finish the install, ignore and close the crash message, continue running cells starting with the one below\n",
        "!pip install numpy==1.17.5;\n",
        "import os\n",
        "os.kill(os.getpid(), 9)"
      ],
      "execution_count": null,
      "outputs": []
    },
    {
      "cell_type": "code",
      "metadata": {
        "id": "9z8kgcs0E7iV"
      },
      "source": [
        "%tensorflow_version 1.x\n",
        "!pip install tf_slim"
      ],
      "execution_count": null,
      "outputs": []
    },
    {
      "cell_type": "code",
      "metadata": {
        "id": "gnNXNQCjdniL"
      },
      "source": [
        "# Number of training steps - 1000 will train very quickly, but more steps will increase accuracy.\n",
        "\n",
        "num_steps = 60000  # A step means using a single batch of data. larger batch, less steps required\n",
        "#60000 steps is required to train our example sign language dataset, less or more may be required based on your custom datasets needs\n",
        "\n",
        "#Number of evaluation steps.\n",
        "num_eval_steps = 50\n",
        "#Batch size 24 is a setting that generally works well. can be changed higher or lower \n",
        "MODELS_CONFIG = {\n",
        "        'ssd_mobilenet_v2': {\n",
        "        'model_name': 'ssd_mobilenet_v2_coco_2018_03_29',\n",
        "        'pipeline_file': 'ssd_mobilenet_v2_coco.config',\n",
        "        'batch_size': 24\n",
        "    }\n",
        "}\n",
        "selected_model = 'ssd_mobilenet_v2'\n",
        "\n",
        "# Name of the object detection model to use.\n",
        "MODEL = MODELS_CONFIG[selected_model]['model_name']\n",
        "\n",
        "# Name of the pipline file in tensorflow object detection API.\n",
        "pipeline_file = MODELS_CONFIG[selected_model]['pipeline_file']\n",
        "\n",
        "# Training batch size fits in Colab's GPU memory for selected model.\n",
        "batch_size = MODELS_CONFIG[selected_model]['batch_size']"
      ],
      "execution_count": null,
      "outputs": []
    },
    {
      "cell_type": "code",
      "metadata": {
        "id": "o9R7LTkNvZos"
      },
      "source": [
        "from google.colab import drive\n",
        "drive.mount('/content/drive')"
      ],
      "execution_count": null,
      "outputs": []
    },
    {
      "cell_type": "markdown",
      "metadata": {
        "id": "bI8__uNS8-ns"
      },
      "source": [
        "## Environment and Training Setup\n",
        "\n",
        "Clone TF models which contains the Object Detection API; also install the required dependencies\n"
      ]
    },
    {
      "cell_type": "markdown",
      "source": [
        "### Only first time (no data stored in Drive)"
      ],
      "metadata": {
        "id": "GZj-GpXBMA_2"
      }
    },
    {
      "cell_type": "code",
      "metadata": {
        "id": "ecpHEnka8Kix"
      },
      "source": [
        "# %%capture\n",
        "#Inside/ content/drive/MyDrive/Colab Notebooks/Android TFLITE Sign/MobilenetSS2 Sign Language/\n",
        "!git clone --quiet https://github.com/tensorflow/models.git\n",
        "%cd \"/content/drive/MyDrive/Colab Notebooks/Android TFLITE Sign/MobilenetSS2 Sign Language/models/\"\n",
        "!git checkout -f \"58d19c67e1d30d905dd5c6e5092348658fed80af\""
      ],
      "execution_count": null,
      "outputs": []
    },
    {
      "cell_type": "markdown",
      "source": [
        "### Second time (/models) folder is present"
      ],
      "metadata": {
        "id": "89XP_gKdMDSG"
      }
    },
    {
      "cell_type": "code",
      "source": [
        "%cd \"/content/drive/MyDrive/Colab Notebooks/Android TFLITE Sign/MobilenetSS2 Sign Language\""
      ],
      "metadata": {
        "id": "vgnLu0kaInFs"
      },
      "execution_count": null,
      "outputs": []
    },
    {
      "cell_type": "code",
      "source": [
        "%cd models/"
      ],
      "metadata": {
        "id": "FhQHocjtLsqd"
      },
      "execution_count": null,
      "outputs": []
    },
    {
      "cell_type": "code",
      "source": [
        "!apt-get update && apt-get install -qq protobuf-compiler python-pil python-lxml python-tk\n",
        "!pip install -q Cython contextlib2 pillow lxml matplotlib\n",
        "!pip install -q pycocotools"
      ],
      "metadata": {
        "id": "Um8itdDnLMdh"
      },
      "execution_count": null,
      "outputs": []
    },
    {
      "cell_type": "code",
      "source": [
        "%cd research"
      ],
      "metadata": {
        "id": "wYLlQ3AmUmd8"
      },
      "execution_count": null,
      "outputs": []
    },
    {
      "cell_type": "code",
      "source": [
        "!protoc object_detection/protos/*.proto --python_out=."
      ],
      "metadata": {
        "id": "zUKCoisa9K8t"
      },
      "execution_count": null,
      "outputs": []
    },
    {
      "cell_type": "code",
      "source": [
        "import os\n",
        "os.environ['PYTHONPATH'] += ':/content/drive/MyDrive/Colab Notebooks/Android TFLITE Sign/MobilenetSS2 Sign Language/models/research/://content/drive/MyDrive/Colab Notebooks/Android TFLITE Sign/MobilenetSS2 Sign Language/models/research/slim/'\n",
        "!python object_detection/builders/model_builder_test.py"
      ],
      "metadata": {
        "id": "BjJxfquXUkg8"
      },
      "execution_count": null,
      "outputs": []
    },
    {
      "cell_type": "code",
      "metadata": {
        "id": "mT0asaLNN1Vz"
      },
      "source": [
        "import os\n",
        "\n",
        "repo_url = 'https://github.com/roboflow-ai/tensorflow-object-detection-faster-rcnn'\n",
        "\n",
        "%cd \"/content/drive/MyDrive/Colab Notebooks/Android TFLITE Sign/MobilenetSS2 Sign Language/\"\n",
        "\n",
        "repo_dir_path = os.path.abspath(os.path.join('.', os.path.basename(repo_url)))"
      ],
      "execution_count": null,
      "outputs": []
    },
    {
      "cell_type": "code",
      "source": [
        "# Clone only first time, if tensorflow-object-detection-faster-rcnn folder not present\n",
        "#!git clone {repo_url}\n",
        "%cd {repo_dir_path}\n",
        "#!git pull"
      ],
      "metadata": {
        "id": "28axnEAX9fsj"
      },
      "execution_count": null,
      "outputs": []
    },
    {
      "cell_type": "markdown",
      "metadata": {
        "id": "u-k7uGThXlny"
      },
      "source": [
        "### Prepare Sign Language `tfrecord` files (Dataset)\n",
        "\n"
      ]
    },
    {
      "cell_type": "markdown",
      "source": [
        "<img src='https://i5.walmartimages.com/asr/870a3fc2-f79a-4ff0-8d6d-c9af281ab883_2.2b4e10bcda389f068c94e38941b06500.jpeg' /> ```"
      ],
      "metadata": {
        "id": "RHnDshKl-EP4"
      }
    },
    {
      "cell_type": "code",
      "source": [
        "%cd \"/content/drive/MyDrive/Colab Notebooks/Android TFLITE Sign/MobilenetSS2 Sign Language/tensorflow-object-detection-faster-rcnn/data\""
      ],
      "metadata": {
        "id": "cykKGDeawcrI"
      },
      "execution_count": null,
      "outputs": []
    },
    {
      "cell_type": "code",
      "metadata": {
        "id": "HcJhUwgCIKpC"
      },
      "source": [
        "#Download sign language dataset from roboflow \n",
        "#   only if not already present tensorflow-object-detection-faster-rcnn/data\n",
        "\n",
        "#!curl -L \"https://public.roboflow.com/ds/oIXT8tYZhI?key=wh13ijZUHk\" > roboflow.zip; unzip roboflow.zip; rm roboflow.zip"
      ],
      "execution_count": null,
      "outputs": []
    },
    {
      "cell_type": "code",
      "metadata": {
        "id": "g4K8uaumM9zo"
      },
      "source": [
        "test_record_fname = \"/content/drive/MyDrive/Colab Notebooks/Android TFLITE Sign/MobilenetSS2 Sign Language/tensorflow-object-detection-faster-rcnn/data/test/Letters.tfrecord\"\n",
        "train_record_fname = \"/content/drive/MyDrive/Colab Notebooks/Android TFLITE Sign/MobilenetSS2 Sign Language/tensorflow-object-detection-faster-rcnn/data/train/Letters.tfrecord\"\n",
        "label_map_pbtxt_fname = \"/content/drive/MyDrive/Colab Notebooks/Android TFLITE Sign/MobilenetSS2 Sign Language/tensorflow-object-detection-faster-rcnn/data/train/Letters_label_map.pbtxt\""
      ],
      "execution_count": null,
      "outputs": []
    },
    {
      "cell_type": "markdown",
      "source": [
        "We can take a look at the labels file"
      ],
      "metadata": {
        "id": "unDLxxfltEQy"
      }
    },
    {
      "cell_type": "code",
      "metadata": {
        "id": "RzMxk7UWyS6g"
      },
      "source": [
        "%cat \"/content/drive/MyDrive/Colab Notebooks/Android TFLITE Sign/MobilenetSS2 Sign Language/tensorflow-object-detection-faster-rcnn/data/train/Letters_label_map.pbtxt\""
      ],
      "execution_count": null,
      "outputs": []
    },
    {
      "cell_type": "markdown",
      "metadata": {
        "id": "iCNYAaC7w6N8"
      },
      "source": [
        "### Download the Mobilenet SSD v2 Model"
      ]
    },
    {
      "cell_type": "code",
      "source": [
        "%cd \"/content/drive/MyDrive/Colab Notebooks/Android TFLITE Sign/MobilenetSS2 Sign Language/models/research\""
      ],
      "metadata": {
        "id": "S6sM8U8Ww4qy"
      },
      "execution_count": null,
      "outputs": []
    },
    {
      "cell_type": "code",
      "metadata": {
        "id": "orDCj6ihgUMR"
      },
      "source": [
        "import os\n",
        "import shutil\n",
        "import glob\n",
        "import urllib.request\n",
        "import tarfile\n",
        "MODEL_FILE = MODEL + '.tar.gz'\n",
        "DOWNLOAD_BASE = 'http://download.tensorflow.org/models/object_detection/'\n",
        "DEST_DIR = \"/content/drive/MyDrive/Colab Notebooks/Android TFLITE Sign/MobilenetSS2 Sign Language/models/research/pretrained_model\""
      ],
      "execution_count": null,
      "outputs": []
    },
    {
      "cell_type": "markdown",
      "source": [
        "#### Only execute if not present"
      ],
      "metadata": {
        "id": "lRVoDMuG72fL"
      }
    },
    {
      "cell_type": "code",
      "source": [
        "if not (os.path.exists(MODEL_FILE)):\n",
        "    urllib.request.urlretrieve(DOWNLOAD_BASE + MODEL_FILE, MODEL_FILE)\n",
        "\n",
        "tar = tarfile.open(MODEL_FILE)\n",
        "tar.extractall()\n",
        "tar.close()\n",
        "\n",
        "os.remove(MODEL_FILE)\n",
        "if (os.path.exists(DEST_DIR)):\n",
        "    shutil.rmtree(DEST_DIR)\n",
        "os.rename(MODEL, DEST_DIR)\n",
        "!echo {DEST_DIR}"
      ],
      "metadata": {
        "id": "9NmTkvY6w65p"
      },
      "execution_count": null,
      "outputs": []
    },
    {
      "cell_type": "code",
      "source": [
        "!ls -la \"/content/drive/MyDrive/Colab Notebooks/Android TFLITE Sign/MobilenetSS2 Sign Language/models/research/pretrained_model/\""
      ],
      "metadata": {
        "id": "hy77ETDCV5kt"
      },
      "execution_count": null,
      "outputs": []
    },
    {
      "cell_type": "markdown",
      "metadata": {
        "id": "MvwtHlLOeRJD"
      },
      "source": [
        "### Configuring a Training Pipeline"
      ]
    },
    {
      "cell_type": "markdown",
      "source": [
        "The training pipeline configuration file indicates how the model training procedure will behave. Will setup train dataset location, number of classes, thresholds, etc."
      ],
      "metadata": {
        "id": "EJaCXBRpt4x4"
      }
    },
    {
      "cell_type": "code",
      "metadata": {
        "id": "UHnxlfRznPP3"
      },
      "source": [
        "#TF pretrained model checkpoint\n",
        "fine_tune_checkpoint = os.path.join(DEST_DIR, \"model.ckpt\")\n",
        "fine_tune_checkpoint"
      ],
      "execution_count": null,
      "outputs": []
    },
    {
      "cell_type": "code",
      "source": [
        "pipeline_fname = os.path.join(\"/content/drive/MyDrive/Colab Notebooks/Android TFLITE Sign/MobilenetSS2 Sign Language/models/research/object_detection/samples/configs/\", pipeline_file)"
      ],
      "metadata": {
        "id": "QgajqFRdx-_1"
      },
      "execution_count": null,
      "outputs": []
    },
    {
      "cell_type": "code",
      "metadata": {
        "id": "dIhw7IdpLuiU"
      },
      "source": [
        "import os\n",
        "\n",
        "assert os.path.isfile(pipeline_fname), '`{}` not exist'.format(pipeline_fname)\n",
        "def get_num_classes(pbtxt_fname):\n",
        "    from object_detection.utils import label_map_util\n",
        "    label_map = label_map_util.load_labelmap(pbtxt_fname)\n",
        "    categories = label_map_util.convert_label_map_to_categories(\n",
        "        label_map, max_num_classes=90, use_display_name=True)\n",
        "    category_index = label_map_util.create_category_index(categories)\n",
        "    return len(category_index.keys())"
      ],
      "execution_count": null,
      "outputs": []
    },
    {
      "cell_type": "code",
      "metadata": {
        "id": "YjtCbLF2i0wI"
      },
      "source": [
        "import re\n",
        "iou_threshold = 0.50\n",
        "num_classes = get_num_classes(label_map_pbtxt_fname)\n",
        "with open(pipeline_fname) as f:\n",
        "    print(pipeline_fname)\n",
        "    s = f.read()\n",
        "with open(pipeline_fname, 'w') as f:\n",
        "    \n",
        "    # fine_tune_checkpoint\n",
        "    s = re.sub('fine_tune_checkpoint: \".*?\"',\n",
        "               'fine_tune_checkpoint: \"{}\"'.format(fine_tune_checkpoint), s)\n",
        "    \n",
        "    # tfrecord files train and test.\n",
        "    s = re.sub(\n",
        "        '(input_path: \".*?)(train.record)(.*?\")', 'input_path: \"{}\"'.format(train_record_fname), s)\n",
        "    s = re.sub(\n",
        "        '(input_path: \".*?)(val.record)(.*?\")', 'input_path: \"{}\"'.format(test_record_fname), s)\n",
        "\n",
        "    # label_map_path\n",
        "    s = re.sub(\n",
        "        'label_map_path: \".*?\"', 'label_map_path: \"{}\"'.format(label_map_pbtxt_fname), s)\n",
        "\n",
        "    # Set training batch_size.\n",
        "    s = re.sub('batch_size: [0-9]+',\n",
        "               'batch_size: {}'.format(batch_size), s)\n",
        "\n",
        "    # Set training steps, num_steps\n",
        "    s = re.sub('num_steps: [0-9]+',\n",
        "               'num_steps: {}'.format(num_steps), s)\n",
        "    \n",
        "    # Set number of classes num_classes.\n",
        "    s = re.sub('num_classes: [0-9]+',\n",
        "               'num_classes: {}'.format(num_classes), s)\n",
        "    # Set number of classes num_classes.\n",
        "    s = re.sub('iou_threshold: [0-9].[0-9]+',\n",
        "               'iou_threshold: {}'.format(iou_threshold), s)\n",
        "    \n",
        "    f.write(s)"
      ],
      "execution_count": null,
      "outputs": []
    },
    {
      "cell_type": "code",
      "source": [
        "pipeline_fname"
      ],
      "metadata": {
        "id": "ue1ySwawWkDk"
      },
      "execution_count": null,
      "outputs": []
    },
    {
      "cell_type": "code",
      "metadata": {
        "id": "GH0MEEanocn6"
      },
      "source": [
        "# #Have a look at the config file with various settings\n",
        "!cat \"/content/drive/MyDrive/Colab Notebooks/Android TFLITE Sign/MobilenetSS2 Sign Language/models/research/object_detection/samples/configs/ssd_mobilenet_v2_coco.config\""
      ],
      "execution_count": null,
      "outputs": []
    },
    {
      "cell_type": "markdown",
      "metadata": {
        "id": "JDddx2rPfex9"
      },
      "source": [
        "## Train Custom Mobilenet Model with Sign Language\n"
      ]
    },
    {
      "cell_type": "code",
      "source": [
        "!pip uninstall pycocotools\n",
        "!pip install --no-cache-dir pycocotools"
      ],
      "metadata": {
        "id": "DFZ1e3HhyDhh"
      },
      "execution_count": null,
      "outputs": []
    },
    {
      "cell_type": "code",
      "source": [
        "model_dir = 'training/'"
      ],
      "metadata": {
        "id": "gahC2Wz_xLx3"
      },
      "execution_count": null,
      "outputs": []
    },
    {
      "cell_type": "code",
      "metadata": {
        "id": "CjDHjhKQofT5",
        "colab": {
          "base_uri": "https://localhost:8080/"
        },
        "outputId": "391f65f5-68bb-4a1e-cd6c-72410722eb16"
      },
      "source": [
        "# Optionally remove content in output model directory for a fresh start.\n",
        "#!rm -rf {model_dir}\n",
        "#os.makedirs(model_dir, exist_ok=True)\n",
        "!python \"/content/drive/MyDrive/Colab Notebooks/Android TFLITE Sign/MobilenetSS2 Sign Language/models/research/object_detection/model_main.py\" \\\n",
        "    --pipeline_config_path=\"/content/drive/MyDrive/Colab Notebooks/Android TFLITE Sign/MobilenetSS2 Sign Language/models/research/object_detection/samples/configs/ssd_mobilenet_v2_coco.config\" \\\n",
        "    --model_dir={model_dir} \\\n",
        "    --alsologtostderr \\\n",
        "    --num_train_steps=60000 \\\n",
        "    --num_eval_steps={num_eval_steps}\n",
        "\n",
        "#training will take a while (the TF OD library is not heavily optimized for speed on GPU), watch the mAP metrics rise, you can quit training early when you think your model has maxed out performance"
      ],
      "execution_count": null,
      "outputs": [
        {
          "output_type": "stream",
          "name": "stdout",
          "text": [
            "WARNING:tensorflow:Forced number of epochs for all eval validations to be 1.\n",
            "W0325 15:09:23.563468 139746967033728 model_lib.py:717] Forced number of epochs for all eval validations to be 1.\n",
            "INFO:tensorflow:Maybe overwriting train_steps: 60000\n",
            "I0325 15:09:23.563827 139746967033728 config_util.py:552] Maybe overwriting train_steps: 60000\n",
            "INFO:tensorflow:Maybe overwriting use_bfloat16: False\n",
            "I0325 15:09:23.564019 139746967033728 config_util.py:552] Maybe overwriting use_bfloat16: False\n",
            "INFO:tensorflow:Maybe overwriting sample_1_of_n_eval_examples: 1\n",
            "I0325 15:09:23.564181 139746967033728 config_util.py:552] Maybe overwriting sample_1_of_n_eval_examples: 1\n",
            "INFO:tensorflow:Maybe overwriting eval_num_epochs: 1\n",
            "I0325 15:09:23.564347 139746967033728 config_util.py:552] Maybe overwriting eval_num_epochs: 1\n",
            "INFO:tensorflow:Maybe overwriting load_pretrained: True\n",
            "I0325 15:09:23.564517 139746967033728 config_util.py:552] Maybe overwriting load_pretrained: True\n",
            "INFO:tensorflow:Ignoring config override key: load_pretrained\n",
            "I0325 15:09:23.564676 139746967033728 config_util.py:562] Ignoring config override key: load_pretrained\n",
            "WARNING:tensorflow:Expected number of evaluation epochs is 1, but instead encountered `eval_on_train_input_config.num_epochs` = 0. Overwriting `num_epochs` to 1.\n",
            "W0325 15:09:23.564919 139746967033728 model_lib.py:733] Expected number of evaluation epochs is 1, but instead encountered `eval_on_train_input_config.num_epochs` = 0. Overwriting `num_epochs` to 1.\n",
            "INFO:tensorflow:create_estimator_and_inputs: use_tpu False, export_to_tpu False\n",
            "I0325 15:09:23.565096 139746967033728 model_lib.py:768] create_estimator_and_inputs: use_tpu False, export_to_tpu False\n",
            "INFO:tensorflow:Using config: {'_model_dir': 'training/', '_tf_random_seed': None, '_save_summary_steps': 100, '_save_checkpoints_steps': None, '_save_checkpoints_secs': 600, '_session_config': allow_soft_placement: true\n",
            "graph_options {\n",
            "  rewrite_options {\n",
            "    meta_optimizer_iterations: ONE\n",
            "  }\n",
            "}\n",
            ", '_keep_checkpoint_max': 5, '_keep_checkpoint_every_n_hours': 10000, '_log_step_count_steps': 100, '_train_distribute': None, '_device_fn': None, '_protocol': None, '_eval_distribute': None, '_experimental_distribute': None, '_experimental_max_worker_delay_secs': None, '_session_creation_timeout_secs': 7200, '_service': None, '_cluster_spec': <tensorflow.python.training.server_lib.ClusterSpec object at 0x7f18f92542d0>, '_task_type': 'worker', '_task_id': 0, '_global_id_in_cluster': 0, '_master': '', '_evaluation_master': '', '_is_chief': True, '_num_ps_replicas': 0, '_num_worker_replicas': 1}\n",
            "I0325 15:09:23.565707 139746967033728 estimator.py:212] Using config: {'_model_dir': 'training/', '_tf_random_seed': None, '_save_summary_steps': 100, '_save_checkpoints_steps': None, '_save_checkpoints_secs': 600, '_session_config': allow_soft_placement: true\n",
            "graph_options {\n",
            "  rewrite_options {\n",
            "    meta_optimizer_iterations: ONE\n",
            "  }\n",
            "}\n",
            ", '_keep_checkpoint_max': 5, '_keep_checkpoint_every_n_hours': 10000, '_log_step_count_steps': 100, '_train_distribute': None, '_device_fn': None, '_protocol': None, '_eval_distribute': None, '_experimental_distribute': None, '_experimental_max_worker_delay_secs': None, '_session_creation_timeout_secs': 7200, '_service': None, '_cluster_spec': <tensorflow.python.training.server_lib.ClusterSpec object at 0x7f18f92542d0>, '_task_type': 'worker', '_task_id': 0, '_global_id_in_cluster': 0, '_master': '', '_evaluation_master': '', '_is_chief': True, '_num_ps_replicas': 0, '_num_worker_replicas': 1}\n",
            "WARNING:tensorflow:Estimator's model_fn (<function create_model_fn.<locals>.model_fn at 0x7f18f9245e60>) includes params argument, but params are not passed to Estimator.\n",
            "W0325 15:09:23.566013 139746967033728 model_fn.py:630] Estimator's model_fn (<function create_model_fn.<locals>.model_fn at 0x7f18f9245e60>) includes params argument, but params are not passed to Estimator.\n",
            "INFO:tensorflow:Not using Distribute Coordinator.\n",
            "I0325 15:09:23.566571 139746967033728 estimator_training.py:186] Not using Distribute Coordinator.\n",
            "INFO:tensorflow:Running training and evaluation locally (non-distributed).\n",
            "I0325 15:09:23.566838 139746967033728 training.py:612] Running training and evaluation locally (non-distributed).\n",
            "INFO:tensorflow:Start train and evaluate loop. The evaluate will happen after every checkpoint. Checkpoint frequency is determined based on RunConfig arguments: save_checkpoints_steps None or save_checkpoints_secs 600.\n",
            "I0325 15:09:23.567175 139746967033728 training.py:700] Start train and evaluate loop. The evaluate will happen after every checkpoint. Checkpoint frequency is determined based on RunConfig arguments: save_checkpoints_steps None or save_checkpoints_secs 600.\n",
            "WARNING:tensorflow:From /tensorflow-1.15.2/python3.7/tensorflow_core/python/training/training_util.py:236: Variable.initialized_value (from tensorflow.python.ops.variables) is deprecated and will be removed in a future version.\n",
            "Instructions for updating:\n",
            "Use Variable.read_value. Variables in 2.X are initialized automatically both in eager and graph (inside tf.defun) contexts.\n",
            "W0325 15:09:24.832719 139746967033728 deprecation.py:323] From /tensorflow-1.15.2/python3.7/tensorflow_core/python/training/training_util.py:236: Variable.initialized_value (from tensorflow.python.ops.variables) is deprecated and will be removed in a future version.\n",
            "Instructions for updating:\n",
            "Use Variable.read_value. Variables in 2.X are initialized automatically both in eager and graph (inside tf.defun) contexts.\n",
            "WARNING:tensorflow:num_readers has been reduced to 1 to match input file shards.\n",
            "W0325 15:09:24.887541 139746967033728 dataset_builder.py:83] num_readers has been reduced to 1 to match input file shards.\n",
            "WARNING:tensorflow:From /content/drive/MyDrive/Colab Notebooks/Android TFLITE Sign/MobilenetSS2 Sign Language/models/research/object_detection/builders/dataset_builder.py:100: parallel_interleave (from tensorflow.python.data.experimental.ops.interleave_ops) is deprecated and will be removed in a future version.\n",
            "Instructions for updating:\n",
            "Use `tf.data.Dataset.interleave(map_func, cycle_length, block_length, num_parallel_calls=tf.data.experimental.AUTOTUNE)` instead. If sloppy execution is desired, use `tf.data.Options.experimental_determinstic`.\n",
            "W0325 15:09:24.895325 139746967033728 deprecation.py:323] From /content/drive/MyDrive/Colab Notebooks/Android TFLITE Sign/MobilenetSS2 Sign Language/models/research/object_detection/builders/dataset_builder.py:100: parallel_interleave (from tensorflow.python.data.experimental.ops.interleave_ops) is deprecated and will be removed in a future version.\n",
            "Instructions for updating:\n",
            "Use `tf.data.Dataset.interleave(map_func, cycle_length, block_length, num_parallel_calls=tf.data.experimental.AUTOTUNE)` instead. If sloppy execution is desired, use `tf.data.Options.experimental_determinstic`.\n",
            "WARNING:tensorflow:From /content/drive/MyDrive/Colab Notebooks/Android TFLITE Sign/MobilenetSS2 Sign Language/models/research/object_detection/builders/dataset_builder.py:175: DatasetV1.map_with_legacy_function (from tensorflow.python.data.ops.dataset_ops) is deprecated and will be removed in a future version.\n",
            "Instructions for updating:\n",
            "Use `tf.data.Dataset.map()\n",
            "W0325 15:09:24.918104 139746967033728 deprecation.py:323] From /content/drive/MyDrive/Colab Notebooks/Android TFLITE Sign/MobilenetSS2 Sign Language/models/research/object_detection/builders/dataset_builder.py:175: DatasetV1.map_with_legacy_function (from tensorflow.python.data.ops.dataset_ops) is deprecated and will be removed in a future version.\n",
            "Instructions for updating:\n",
            "Use `tf.data.Dataset.map()\n",
            "WARNING:tensorflow:Entity <bound method TfExampleDecoder.decode of <object_detection.data_decoders.tf_example_decoder.TfExampleDecoder object at 0x7f18f9254c90>> could not be transformed and will be executed as-is. Please report this to the AutoGraph team. When filing the bug, set the verbosity to 10 (on Linux, `export AUTOGRAPH_VERBOSITY=10`) and attach the full output. Cause: module 'gast' has no attribute 'Index'\n",
            "W0325 15:09:25.153381 139746967033728 ag_logging.py:146] Entity <bound method TfExampleDecoder.decode of <object_detection.data_decoders.tf_example_decoder.TfExampleDecoder object at 0x7f18f9254c90>> could not be transformed and will be executed as-is. Please report this to the AutoGraph team. When filing the bug, set the verbosity to 10 (on Linux, `export AUTOGRAPH_VERBOSITY=10`) and attach the full output. Cause: module 'gast' has no attribute 'Index'\n",
            "WARNING:tensorflow:Entity <function train_input.<locals>.transform_and_pad_input_data_fn at 0x7f18f71f0320> could not be transformed and will be executed as-is. Please report this to the AutoGraph team. When filing the bug, set the verbosity to 10 (on Linux, `export AUTOGRAPH_VERBOSITY=10`) and attach the full output. Cause: module 'gast' has no attribute 'Str'\n",
            "W0325 15:09:25.646520 139746967033728 ag_logging.py:146] Entity <function train_input.<locals>.transform_and_pad_input_data_fn at 0x7f18f71f0320> could not be transformed and will be executed as-is. Please report this to the AutoGraph team. When filing the bug, set the verbosity to 10 (on Linux, `export AUTOGRAPH_VERBOSITY=10`) and attach the full output. Cause: module 'gast' has no attribute 'Str'\n",
            "WARNING:tensorflow:From /content/drive/MyDrive/Colab Notebooks/Android TFLITE Sign/MobilenetSS2 Sign Language/models/research/object_detection/inputs.py:79: sparse_to_dense (from tensorflow.python.ops.sparse_ops) is deprecated and will be removed in a future version.\n",
            "Instructions for updating:\n",
            "Create a `tf.sparse.SparseTensor` and use `tf.sparse.to_dense` instead.\n",
            "W0325 15:09:25.654510 139746967033728 deprecation.py:323] From /content/drive/MyDrive/Colab Notebooks/Android TFLITE Sign/MobilenetSS2 Sign Language/models/research/object_detection/inputs.py:79: sparse_to_dense (from tensorflow.python.ops.sparse_ops) is deprecated and will be removed in a future version.\n",
            "Instructions for updating:\n",
            "Create a `tf.sparse.SparseTensor` and use `tf.sparse.to_dense` instead.\n",
            "WARNING:tensorflow:From /content/drive/MyDrive/Colab Notebooks/Android TFLITE Sign/MobilenetSS2 Sign Language/models/research/object_detection/utils/ops.py:493: where (from tensorflow.python.ops.array_ops) is deprecated and will be removed in a future version.\n",
            "Instructions for updating:\n",
            "Use tf.where in 2.0, which has the same broadcast rule as np.where\n",
            "W0325 15:09:25.667496 139746967033728 deprecation.py:323] From /content/drive/MyDrive/Colab Notebooks/Android TFLITE Sign/MobilenetSS2 Sign Language/models/research/object_detection/utils/ops.py:493: where (from tensorflow.python.ops.array_ops) is deprecated and will be removed in a future version.\n",
            "Instructions for updating:\n",
            "Use tf.where in 2.0, which has the same broadcast rule as np.where\n",
            "WARNING:tensorflow:From /content/drive/MyDrive/Colab Notebooks/Android TFLITE Sign/MobilenetSS2 Sign Language/models/research/object_detection/core/preprocessor.py:199: sample_distorted_bounding_box (from tensorflow.python.ops.image_ops_impl) is deprecated and will be removed in a future version.\n",
            "Instructions for updating:\n",
            "`seed2` arg is deprecated.Use sample_distorted_bounding_box_v2 instead.\n",
            "W0325 15:09:25.784240 139746967033728 deprecation.py:323] From /content/drive/MyDrive/Colab Notebooks/Android TFLITE Sign/MobilenetSS2 Sign Language/models/research/object_detection/core/preprocessor.py:199: sample_distorted_bounding_box (from tensorflow.python.ops.image_ops_impl) is deprecated and will be removed in a future version.\n",
            "Instructions for updating:\n",
            "`seed2` arg is deprecated.Use sample_distorted_bounding_box_v2 instead.\n",
            "WARNING:tensorflow:From /content/drive/MyDrive/Colab Notebooks/Android TFLITE Sign/MobilenetSS2 Sign Language/models/research/object_detection/inputs.py:260: to_float (from tensorflow.python.ops.math_ops) is deprecated and will be removed in a future version.\n",
            "Instructions for updating:\n",
            "Use `tf.cast` instead.\n",
            "W0325 15:09:26.763762 139746967033728 deprecation.py:323] From /content/drive/MyDrive/Colab Notebooks/Android TFLITE Sign/MobilenetSS2 Sign Language/models/research/object_detection/inputs.py:260: to_float (from tensorflow.python.ops.math_ops) is deprecated and will be removed in a future version.\n",
            "Instructions for updating:\n",
            "Use `tf.cast` instead.\n",
            "INFO:tensorflow:Calling model_fn.\n",
            "I0325 15:09:27.345911 139746967033728 estimator.py:1148] Calling model_fn.\n",
            "WARNING:tensorflow:From /usr/local/lib/python3.7/dist-packages/tf_slim/layers/layers.py:1089: Layer.apply (from tensorflow.python.keras.engine.base_layer) is deprecated and will be removed in a future version.\n",
            "Instructions for updating:\n",
            "Please use `layer.__call__` method instead.\n",
            "W0325 15:09:27.947266 139746967033728 deprecation.py:323] From /usr/local/lib/python3.7/dist-packages/tf_slim/layers/layers.py:1089: Layer.apply (from tensorflow.python.keras.engine.base_layer) is deprecated and will be removed in a future version.\n",
            "Instructions for updating:\n",
            "Please use `layer.__call__` method instead.\n",
            "INFO:tensorflow:depth of additional conv before box predictor: 0\n",
            "I0325 15:09:31.324411 139746967033728 convolutional_box_predictor.py:156] depth of additional conv before box predictor: 0\n",
            "INFO:tensorflow:depth of additional conv before box predictor: 0\n",
            "I0325 15:09:31.362860 139746967033728 convolutional_box_predictor.py:156] depth of additional conv before box predictor: 0\n",
            "INFO:tensorflow:depth of additional conv before box predictor: 0\n",
            "I0325 15:09:31.401489 139746967033728 convolutional_box_predictor.py:156] depth of additional conv before box predictor: 0\n",
            "INFO:tensorflow:depth of additional conv before box predictor: 0\n",
            "I0325 15:09:31.440951 139746967033728 convolutional_box_predictor.py:156] depth of additional conv before box predictor: 0\n",
            "INFO:tensorflow:depth of additional conv before box predictor: 0\n",
            "I0325 15:09:31.480872 139746967033728 convolutional_box_predictor.py:156] depth of additional conv before box predictor: 0\n",
            "INFO:tensorflow:depth of additional conv before box predictor: 0\n",
            "I0325 15:09:31.517689 139746967033728 convolutional_box_predictor.py:156] depth of additional conv before box predictor: 0\n",
            "W0325 15:09:31.953254 139746967033728 variables_helper.py:153] Variable [FeatureExtractor/MobilenetV2/layer_19_2_Conv2d_2_3x3_s2_512/weights] is available in checkpoint, but has an incompatible shape with model variable. Checkpoint shape: [[1, 1, 256, 512]], model variable shape: [[3, 3, 256, 512]]. This variable will not be initialized from the checkpoint.\n",
            "W0325 15:09:31.953564 139746967033728 variables_helper.py:153] Variable [FeatureExtractor/MobilenetV2/layer_19_2_Conv2d_3_3x3_s2_256/weights] is available in checkpoint, but has an incompatible shape with model variable. Checkpoint shape: [[1, 1, 128, 256]], model variable shape: [[3, 3, 128, 256]]. This variable will not be initialized from the checkpoint.\n",
            "W0325 15:09:31.953738 139746967033728 variables_helper.py:153] Variable [FeatureExtractor/MobilenetV2/layer_19_2_Conv2d_4_3x3_s2_256/weights] is available in checkpoint, but has an incompatible shape with model variable. Checkpoint shape: [[1, 1, 128, 256]], model variable shape: [[3, 3, 128, 256]]. This variable will not be initialized from the checkpoint.\n",
            "W0325 15:09:31.953932 139746967033728 variables_helper.py:153] Variable [FeatureExtractor/MobilenetV2/layer_19_2_Conv2d_5_3x3_s2_128/weights] is available in checkpoint, but has an incompatible shape with model variable. Checkpoint shape: [[1, 1, 64, 128]], model variable shape: [[3, 3, 64, 128]]. This variable will not be initialized from the checkpoint.\n",
            "WARNING:tensorflow:From /tensorflow-1.15.2/python3.7/tensorflow_core/python/training/rmsprop.py:119: calling Ones.__init__ (from tensorflow.python.ops.init_ops) with dtype is deprecated and will be removed in a future version.\n",
            "Instructions for updating:\n",
            "Call initializer instance with the dtype argument instead of passing it to the constructor\n",
            "W0325 15:09:41.229306 139746967033728 deprecation.py:506] From /tensorflow-1.15.2/python3.7/tensorflow_core/python/training/rmsprop.py:119: calling Ones.__init__ (from tensorflow.python.ops.init_ops) with dtype is deprecated and will be removed in a future version.\n",
            "Instructions for updating:\n",
            "Call initializer instance with the dtype argument instead of passing it to the constructor\n",
            "INFO:tensorflow:Done calling model_fn.\n",
            "I0325 15:09:49.181746 139746967033728 estimator.py:1150] Done calling model_fn.\n",
            "INFO:tensorflow:Create CheckpointSaverHook.\n",
            "I0325 15:09:49.184097 139746967033728 basic_session_run_hooks.py:541] Create CheckpointSaverHook.\n",
            "INFO:tensorflow:Graph was finalized.\n",
            "I0325 15:09:53.902201 139746967033728 monitored_session.py:240] Graph was finalized.\n",
            "2022-03-25 15:09:53.918827: I tensorflow/core/platform/profile_utils/cpu_utils.cc:94] CPU Frequency: 2299995000 Hz\n",
            "2022-03-25 15:09:53.919229: I tensorflow/compiler/xla/service/service.cc:168] XLA service 0x562eaa815d40 initialized for platform Host (this does not guarantee that XLA will be used). Devices:\n",
            "2022-03-25 15:09:53.919279: I tensorflow/compiler/xla/service/service.cc:176]   StreamExecutor device (0): Host, Default Version\n",
            "2022-03-25 15:09:53.924722: I tensorflow/stream_executor/platform/default/dso_loader.cc:44] Successfully opened dynamic library libcuda.so.1\n",
            "2022-03-25 15:09:54.102484: I tensorflow/stream_executor/cuda/cuda_gpu_executor.cc:983] successful NUMA node read from SysFS had negative value (-1), but there must be at least one NUMA node, so returning NUMA node zero\n",
            "2022-03-25 15:09:54.103450: I tensorflow/compiler/xla/service/service.cc:168] XLA service 0x562eb4541340 initialized for platform CUDA (this does not guarantee that XLA will be used). Devices:\n",
            "2022-03-25 15:09:54.103484: I tensorflow/compiler/xla/service/service.cc:176]   StreamExecutor device (0): Tesla K80, Compute Capability 3.7\n",
            "2022-03-25 15:09:54.104682: I tensorflow/stream_executor/cuda/cuda_gpu_executor.cc:983] successful NUMA node read from SysFS had negative value (-1), but there must be at least one NUMA node, so returning NUMA node zero\n",
            "2022-03-25 15:09:54.105408: I tensorflow/core/common_runtime/gpu/gpu_device.cc:1639] Found device 0 with properties: \n",
            "name: Tesla K80 major: 3 minor: 7 memoryClockRate(GHz): 0.8235\n",
            "pciBusID: 0000:00:04.0\n",
            "2022-03-25 15:09:54.128852: I tensorflow/stream_executor/platform/default/dso_loader.cc:44] Successfully opened dynamic library libcudart.so.10.1\n",
            "2022-03-25 15:09:54.321730: I tensorflow/stream_executor/platform/default/dso_loader.cc:44] Successfully opened dynamic library libcublas.so.10\n",
            "2022-03-25 15:09:54.346612: I tensorflow/stream_executor/platform/default/dso_loader.cc:44] Successfully opened dynamic library libcufft.so.10\n",
            "2022-03-25 15:09:54.368006: I tensorflow/stream_executor/platform/default/dso_loader.cc:44] Successfully opened dynamic library libcurand.so.10\n",
            "2022-03-25 15:09:54.546224: I tensorflow/stream_executor/platform/default/dso_loader.cc:44] Successfully opened dynamic library libcusolver.so.10\n",
            "2022-03-25 15:09:54.565916: I tensorflow/stream_executor/platform/default/dso_loader.cc:44] Successfully opened dynamic library libcusparse.so.10\n",
            "2022-03-25 15:09:54.937879: I tensorflow/stream_executor/platform/default/dso_loader.cc:44] Successfully opened dynamic library libcudnn.so.7\n",
            "2022-03-25 15:09:54.938142: I tensorflow/stream_executor/cuda/cuda_gpu_executor.cc:983] successful NUMA node read from SysFS had negative value (-1), but there must be at least one NUMA node, so returning NUMA node zero\n",
            "2022-03-25 15:09:54.939042: I tensorflow/stream_executor/cuda/cuda_gpu_executor.cc:983] successful NUMA node read from SysFS had negative value (-1), but there must be at least one NUMA node, so returning NUMA node zero\n",
            "2022-03-25 15:09:54.939797: I tensorflow/core/common_runtime/gpu/gpu_device.cc:1767] Adding visible gpu devices: 0\n",
            "2022-03-25 15:09:54.943216: I tensorflow/stream_executor/platform/default/dso_loader.cc:44] Successfully opened dynamic library libcudart.so.10.1\n",
            "2022-03-25 15:09:54.944871: I tensorflow/core/common_runtime/gpu/gpu_device.cc:1180] Device interconnect StreamExecutor with strength 1 edge matrix:\n",
            "2022-03-25 15:09:54.944912: I tensorflow/core/common_runtime/gpu/gpu_device.cc:1186]      0 \n",
            "2022-03-25 15:09:54.944933: I tensorflow/core/common_runtime/gpu/gpu_device.cc:1199] 0:   N \n",
            "2022-03-25 15:09:54.946011: I tensorflow/stream_executor/cuda/cuda_gpu_executor.cc:983] successful NUMA node read from SysFS had negative value (-1), but there must be at least one NUMA node, so returning NUMA node zero\n",
            "2022-03-25 15:09:54.946896: I tensorflow/stream_executor/cuda/cuda_gpu_executor.cc:983] successful NUMA node read from SysFS had negative value (-1), but there must be at least one NUMA node, so returning NUMA node zero\n",
            "2022-03-25 15:09:54.947651: W tensorflow/core/common_runtime/gpu/gpu_bfc_allocator.cc:39] Overriding allow_growth setting because the TF_FORCE_GPU_ALLOW_GROWTH environment variable is set. Original config value was 0.\n",
            "2022-03-25 15:09:54.947710: I tensorflow/core/common_runtime/gpu/gpu_device.cc:1325] Created TensorFlow device (/job:localhost/replica:0/task:0/device:GPU:0 with 10813 MB memory) -> physical GPU (device: 0, name: Tesla K80, pci bus id: 0000:00:04.0, compute capability: 3.7)\n",
            "INFO:tensorflow:Restoring parameters from training/model.ckpt-45884\n",
            "I0325 15:09:54.953254 139746967033728 saver.py:1284] Restoring parameters from training/model.ckpt-45884\n",
            "WARNING:tensorflow:From /tensorflow-1.15.2/python3.7/tensorflow_core/python/training/saver.py:1069: get_checkpoint_mtimes (from tensorflow.python.training.checkpoint_management) is deprecated and will be removed in a future version.\n",
            "Instructions for updating:\n",
            "Use standard file utilities to get mtimes.\n",
            "W0325 15:10:00.656695 139746967033728 deprecation.py:323] From /tensorflow-1.15.2/python3.7/tensorflow_core/python/training/saver.py:1069: get_checkpoint_mtimes (from tensorflow.python.training.checkpoint_management) is deprecated and will be removed in a future version.\n",
            "Instructions for updating:\n",
            "Use standard file utilities to get mtimes.\n",
            "INFO:tensorflow:Running local_init_op.\n",
            "I0325 15:10:01.954693 139746967033728 session_manager.py:500] Running local_init_op.\n",
            "INFO:tensorflow:Done running local_init_op.\n",
            "I0325 15:10:02.386024 139746967033728 session_manager.py:502] Done running local_init_op.\n",
            "INFO:tensorflow:Saving checkpoints for 45884 into training/model.ckpt.\n",
            "I0325 15:10:15.966597 139746967033728 basic_session_run_hooks.py:606] Saving checkpoints for 45884 into training/model.ckpt.\n",
            "2022-03-25 15:10:30.339700: I tensorflow/stream_executor/platform/default/dso_loader.cc:44] Successfully opened dynamic library libcudnn.so.7\n",
            "2022-03-25 15:10:32.633111: I tensorflow/stream_executor/platform/default/dso_loader.cc:44] Successfully opened dynamic library libcublas.so.10\n",
            "INFO:tensorflow:loss = 0.46790385, step = 45884\n",
            "I0325 15:10:36.040995 139746967033728 basic_session_run_hooks.py:262] loss = 0.46790385, step = 45884\n",
            "INFO:tensorflow:global_step/sec: 1.3179\n",
            "I0325 15:11:51.918500 139746967033728 basic_session_run_hooks.py:692] global_step/sec: 1.3179\n",
            "INFO:tensorflow:loss = 0.44986135, step = 45984 (75.880 sec)\n",
            "I0325 15:11:51.920917 139746967033728 basic_session_run_hooks.py:260] loss = 0.44986135, step = 45984 (75.880 sec)\n",
            "INFO:tensorflow:global_step/sec: 1.43315\n",
            "I0325 15:13:01.694588 139746967033728 basic_session_run_hooks.py:692] global_step/sec: 1.43315\n",
            "INFO:tensorflow:loss = 0.56411624, step = 46084 (69.775 sec)\n",
            "I0325 15:13:01.695971 139746967033728 basic_session_run_hooks.py:260] loss = 0.56411624, step = 46084 (69.775 sec)\n",
            "INFO:tensorflow:global_step/sec: 1.42414\n",
            "I0325 15:14:11.912626 139746967033728 basic_session_run_hooks.py:692] global_step/sec: 1.42414\n",
            "INFO:tensorflow:loss = 0.4913708, step = 46184 (70.218 sec)\n",
            "I0325 15:14:11.914232 139746967033728 basic_session_run_hooks.py:260] loss = 0.4913708, step = 46184 (70.218 sec)\n",
            "INFO:tensorflow:global_step/sec: 1.43236\n",
            "I0325 15:15:21.727661 139746967033728 basic_session_run_hooks.py:692] global_step/sec: 1.43236\n",
            "INFO:tensorflow:loss = 0.4470201, step = 46284 (69.815 sec)\n",
            "I0325 15:15:21.729118 139746967033728 basic_session_run_hooks.py:260] loss = 0.4470201, step = 46284 (69.815 sec)\n",
            "INFO:tensorflow:global_step/sec: 1.4346\n",
            "I0325 15:16:31.433541 139746967033728 basic_session_run_hooks.py:692] global_step/sec: 1.4346\n",
            "INFO:tensorflow:loss = 0.49644405, step = 46384 (69.707 sec)\n",
            "I0325 15:16:31.435627 139746967033728 basic_session_run_hooks.py:260] loss = 0.49644405, step = 46384 (69.707 sec)\n",
            "INFO:tensorflow:global_step/sec: 1.42921\n",
            "I0325 15:17:41.402398 139746967033728 basic_session_run_hooks.py:692] global_step/sec: 1.42921\n",
            "INFO:tensorflow:loss = 0.5100341, step = 46484 (69.968 sec)\n",
            "I0325 15:17:41.403913 139746967033728 basic_session_run_hooks.py:260] loss = 0.5100341, step = 46484 (69.968 sec)\n",
            "INFO:tensorflow:global_step/sec: 1.42748\n",
            "I0325 15:18:51.455830 139746967033728 basic_session_run_hooks.py:692] global_step/sec: 1.42748\n",
            "INFO:tensorflow:loss = 0.45186, step = 46584 (70.054 sec)\n",
            "I0325 15:18:51.458213 139746967033728 basic_session_run_hooks.py:260] loss = 0.45186, step = 46584 (70.054 sec)\n",
            "INFO:tensorflow:global_step/sec: 1.43533\n",
            "I0325 15:20:01.125957 139746967033728 basic_session_run_hooks.py:692] global_step/sec: 1.43533\n",
            "INFO:tensorflow:loss = 0.48908156, step = 46684 (69.669 sec)\n",
            "I0325 15:20:01.126981 139746967033728 basic_session_run_hooks.py:260] loss = 0.48908156, step = 46684 (69.669 sec)\n",
            "INFO:tensorflow:Saving checkpoints for 46712 into training/model.ckpt.\n",
            "I0325 15:20:19.879419 139746967033728 basic_session_run_hooks.py:606] Saving checkpoints for 46712 into training/model.ckpt.\n",
            "WARNING:tensorflow:From /tensorflow-1.15.2/python3.7/tensorflow_core/python/training/saver.py:963: remove_checkpoint (from tensorflow.python.training.checkpoint_management) is deprecated and will be removed in a future version.\n",
            "Instructions for updating:\n",
            "Use standard file APIs to delete files with this prefix.\n",
            "W0325 15:20:20.131451 139746967033728 deprecation.py:323] From /tensorflow-1.15.2/python3.7/tensorflow_core/python/training/saver.py:963: remove_checkpoint (from tensorflow.python.training.checkpoint_management) is deprecated and will be removed in a future version.\n",
            "Instructions for updating:\n",
            "Use standard file APIs to delete files with this prefix.\n",
            "WARNING:tensorflow:Entity <bound method TfExampleDecoder.decode of <object_detection.data_decoders.tf_example_decoder.TfExampleDecoder object at 0x7f18e3031650>> could not be transformed and will be executed as-is. Please report this to the AutoGraph team. When filing the bug, set the verbosity to 10 (on Linux, `export AUTOGRAPH_VERBOSITY=10`) and attach the full output. Cause: module 'gast' has no attribute 'Index'\n",
            "W0325 15:20:22.374454 139746967033728 ag_logging.py:146] Entity <bound method TfExampleDecoder.decode of <object_detection.data_decoders.tf_example_decoder.TfExampleDecoder object at 0x7f18e3031650>> could not be transformed and will be executed as-is. Please report this to the AutoGraph team. When filing the bug, set the verbosity to 10 (on Linux, `export AUTOGRAPH_VERBOSITY=10`) and attach the full output. Cause: module 'gast' has no attribute 'Index'\n",
            "WARNING:tensorflow:Entity <function eval_input.<locals>.transform_and_pad_input_data_fn at 0x7f18f086f3b0> could not be transformed and will be executed as-is. Please report this to the AutoGraph team. When filing the bug, set the verbosity to 10 (on Linux, `export AUTOGRAPH_VERBOSITY=10`) and attach the full output. Cause: module 'gast' has no attribute 'Str'\n",
            "W0325 15:20:22.642229 139746967033728 ag_logging.py:146] Entity <function eval_input.<locals>.transform_and_pad_input_data_fn at 0x7f18f086f3b0> could not be transformed and will be executed as-is. Please report this to the AutoGraph team. When filing the bug, set the verbosity to 10 (on Linux, `export AUTOGRAPH_VERBOSITY=10`) and attach the full output. Cause: module 'gast' has no attribute 'Str'\n",
            "INFO:tensorflow:Calling model_fn.\n",
            "I0325 15:20:23.331210 139746967033728 estimator.py:1148] Calling model_fn.\n",
            "INFO:tensorflow:depth of additional conv before box predictor: 0\n",
            "I0325 15:20:26.361053 139746967033728 convolutional_box_predictor.py:156] depth of additional conv before box predictor: 0\n",
            "INFO:tensorflow:depth of additional conv before box predictor: 0\n",
            "I0325 15:20:26.401095 139746967033728 convolutional_box_predictor.py:156] depth of additional conv before box predictor: 0\n",
            "INFO:tensorflow:depth of additional conv before box predictor: 0\n",
            "I0325 15:20:26.439441 139746967033728 convolutional_box_predictor.py:156] depth of additional conv before box predictor: 0\n",
            "INFO:tensorflow:depth of additional conv before box predictor: 0\n",
            "I0325 15:20:26.477588 139746967033728 convolutional_box_predictor.py:156] depth of additional conv before box predictor: 0\n",
            "INFO:tensorflow:depth of additional conv before box predictor: 0\n",
            "I0325 15:20:26.514799 139746967033728 convolutional_box_predictor.py:156] depth of additional conv before box predictor: 0\n",
            "INFO:tensorflow:depth of additional conv before box predictor: 0\n",
            "I0325 15:20:26.552206 139746967033728 convolutional_box_predictor.py:156] depth of additional conv before box predictor: 0\n",
            "WARNING:tensorflow:From /content/drive/MyDrive/Colab Notebooks/Android TFLITE Sign/MobilenetSS2 Sign Language/models/research/object_detection/eval_util.py:830: to_int64 (from tensorflow.python.ops.math_ops) is deprecated and will be removed in a future version.\n",
            "Instructions for updating:\n",
            "Use `tf.cast` instead.\n",
            "W0325 15:20:28.567525 139746967033728 deprecation.py:323] From /content/drive/MyDrive/Colab Notebooks/Android TFLITE Sign/MobilenetSS2 Sign Language/models/research/object_detection/eval_util.py:830: to_int64 (from tensorflow.python.ops.math_ops) is deprecated and will be removed in a future version.\n",
            "Instructions for updating:\n",
            "Use `tf.cast` instead.\n",
            "WARNING:tensorflow:From /content/drive/MyDrive/Colab Notebooks/Android TFLITE Sign/MobilenetSS2 Sign Language/models/research/object_detection/utils/visualization_utils.py:618: py_func (from tensorflow.python.ops.script_ops) is deprecated and will be removed in a future version.\n",
            "Instructions for updating:\n",
            "tf.py_func is deprecated in TF V2. Instead, there are two\n",
            "    options available in V2.\n",
            "    - tf.py_function takes a python function which manipulates tf eager\n",
            "    tensors instead of numpy arrays. It's easy to convert a tf eager tensor to\n",
            "    an ndarray (just call tensor.numpy()) but having access to eager tensors\n",
            "    means `tf.py_function`s can use accelerators such as GPUs as well as\n",
            "    being differentiable using a gradient tape.\n",
            "    - tf.numpy_function maintains the semantics of the deprecated tf.py_func\n",
            "    (it is not differentiable, and manipulates numpy arrays). It drops the\n",
            "    stateful argument making all functions stateful.\n",
            "    \n",
            "W0325 15:20:28.833985 139746967033728 deprecation.py:323] From /content/drive/MyDrive/Colab Notebooks/Android TFLITE Sign/MobilenetSS2 Sign Language/models/research/object_detection/utils/visualization_utils.py:618: py_func (from tensorflow.python.ops.script_ops) is deprecated and will be removed in a future version.\n",
            "Instructions for updating:\n",
            "tf.py_func is deprecated in TF V2. Instead, there are two\n",
            "    options available in V2.\n",
            "    - tf.py_function takes a python function which manipulates tf eager\n",
            "    tensors instead of numpy arrays. It's easy to convert a tf eager tensor to\n",
            "    an ndarray (just call tensor.numpy()) but having access to eager tensors\n",
            "    means `tf.py_function`s can use accelerators such as GPUs as well as\n",
            "    being differentiable using a gradient tape.\n",
            "    - tf.numpy_function maintains the semantics of the deprecated tf.py_func\n",
            "    (it is not differentiable, and manipulates numpy arrays). It drops the\n",
            "    stateful argument making all functions stateful.\n",
            "    \n",
            "INFO:tensorflow:Done calling model_fn.\n",
            "I0325 15:20:29.839899 139746967033728 estimator.py:1150] Done calling model_fn.\n",
            "INFO:tensorflow:Starting evaluation at 2022-03-25T15:20:29Z\n",
            "I0325 15:20:29.877235 139746967033728 evaluation.py:255] Starting evaluation at 2022-03-25T15:20:29Z\n",
            "INFO:tensorflow:Graph was finalized.\n",
            "I0325 15:20:30.495368 139746967033728 monitored_session.py:240] Graph was finalized.\n",
            "2022-03-25 15:20:30.496488: I tensorflow/stream_executor/cuda/cuda_gpu_executor.cc:983] successful NUMA node read from SysFS had negative value (-1), but there must be at least one NUMA node, so returning NUMA node zero\n",
            "2022-03-25 15:20:30.497119: I tensorflow/core/common_runtime/gpu/gpu_device.cc:1639] Found device 0 with properties: \n",
            "name: Tesla K80 major: 3 minor: 7 memoryClockRate(GHz): 0.8235\n",
            "pciBusID: 0000:00:04.0\n",
            "2022-03-25 15:20:30.497244: I tensorflow/stream_executor/platform/default/dso_loader.cc:44] Successfully opened dynamic library libcudart.so.10.1\n",
            "2022-03-25 15:20:30.497296: I tensorflow/stream_executor/platform/default/dso_loader.cc:44] Successfully opened dynamic library libcublas.so.10\n",
            "2022-03-25 15:20:30.497369: I tensorflow/stream_executor/platform/default/dso_loader.cc:44] Successfully opened dynamic library libcufft.so.10\n",
            "2022-03-25 15:20:30.497423: I tensorflow/stream_executor/platform/default/dso_loader.cc:44] Successfully opened dynamic library libcurand.so.10\n",
            "2022-03-25 15:20:30.497472: I tensorflow/stream_executor/platform/default/dso_loader.cc:44] Successfully opened dynamic library libcusolver.so.10\n",
            "2022-03-25 15:20:30.497520: I tensorflow/stream_executor/platform/default/dso_loader.cc:44] Successfully opened dynamic library libcusparse.so.10\n",
            "2022-03-25 15:20:30.497568: I tensorflow/stream_executor/platform/default/dso_loader.cc:44] Successfully opened dynamic library libcudnn.so.7\n",
            "2022-03-25 15:20:30.497685: I tensorflow/stream_executor/cuda/cuda_gpu_executor.cc:983] successful NUMA node read from SysFS had negative value (-1), but there must be at least one NUMA node, so returning NUMA node zero\n",
            "2022-03-25 15:20:30.498242: I tensorflow/stream_executor/cuda/cuda_gpu_executor.cc:983] successful NUMA node read from SysFS had negative value (-1), but there must be at least one NUMA node, so returning NUMA node zero\n",
            "2022-03-25 15:20:30.498768: I tensorflow/core/common_runtime/gpu/gpu_device.cc:1767] Adding visible gpu devices: 0\n",
            "2022-03-25 15:20:30.498860: I tensorflow/core/common_runtime/gpu/gpu_device.cc:1180] Device interconnect StreamExecutor with strength 1 edge matrix:\n",
            "2022-03-25 15:20:30.498888: I tensorflow/core/common_runtime/gpu/gpu_device.cc:1186]      0 \n",
            "2022-03-25 15:20:30.498905: I tensorflow/core/common_runtime/gpu/gpu_device.cc:1199] 0:   N \n",
            "2022-03-25 15:20:30.499054: I tensorflow/stream_executor/cuda/cuda_gpu_executor.cc:983] successful NUMA node read from SysFS had negative value (-1), but there must be at least one NUMA node, so returning NUMA node zero\n",
            "2022-03-25 15:20:30.499629: I tensorflow/stream_executor/cuda/cuda_gpu_executor.cc:983] successful NUMA node read from SysFS had negative value (-1), but there must be at least one NUMA node, so returning NUMA node zero\n",
            "2022-03-25 15:20:30.500134: I tensorflow/core/common_runtime/gpu/gpu_device.cc:1325] Created TensorFlow device (/job:localhost/replica:0/task:0/device:GPU:0 with 10813 MB memory) -> physical GPU (device: 0, name: Tesla K80, pci bus id: 0000:00:04.0, compute capability: 3.7)\n",
            "INFO:tensorflow:Restoring parameters from training/model.ckpt-46712\n",
            "I0325 15:20:30.502392 139746967033728 saver.py:1284] Restoring parameters from training/model.ckpt-46712\n",
            "INFO:tensorflow:Running local_init_op.\n",
            "I0325 15:20:31.535095 139746967033728 session_manager.py:500] Running local_init_op.\n",
            "INFO:tensorflow:Done running local_init_op.\n",
            "I0325 15:20:31.684867 139746967033728 session_manager.py:502] Done running local_init_op.\n",
            "INFO:tensorflow:Performing evaluation on 72 images.\n",
            "I0325 15:20:39.325272 139744874792704 coco_evaluation.py:237] Performing evaluation on 72 images.\n",
            "creating index...\n",
            "index created!\n",
            "INFO:tensorflow:Loading and preparing annotation results...\n",
            "I0325 15:20:39.326884 139744874792704 coco_tools.py:116] Loading and preparing annotation results...\n",
            "INFO:tensorflow:DONE (t=0.01s)\n",
            "I0325 15:20:39.332162 139744874792704 coco_tools.py:138] DONE (t=0.01s)\n",
            "creating index...\n",
            "index created!\n",
            "Running per image evaluation...\n",
            "Evaluate annotation type *bbox*\n",
            "DONE (t=0.85s).\n",
            "Accumulating evaluation results...\n",
            "DONE (t=0.25s).\n",
            " Average Precision  (AP) @[ IoU=0.50:0.95 | area=   all | maxDets=100 ] = 0.641\n",
            " Average Precision  (AP) @[ IoU=0.50      | area=   all | maxDets=100 ] = 0.941\n",
            " Average Precision  (AP) @[ IoU=0.75      | area=   all | maxDets=100 ] = 0.848\n",
            " Average Precision  (AP) @[ IoU=0.50:0.95 | area= small | maxDets=100 ] = -1.000\n",
            " Average Precision  (AP) @[ IoU=0.50:0.95 | area=medium | maxDets=100 ] = -1.000\n",
            " Average Precision  (AP) @[ IoU=0.50:0.95 | area= large | maxDets=100 ] = 0.641\n",
            " Average Recall     (AR) @[ IoU=0.50:0.95 | area=   all | maxDets=  1 ] = 0.680\n",
            " Average Recall     (AR) @[ IoU=0.50:0.95 | area=   all | maxDets= 10 ] = 0.680\n",
            " Average Recall     (AR) @[ IoU=0.50:0.95 | area=   all | maxDets=100 ] = 0.680\n",
            " Average Recall     (AR) @[ IoU=0.50:0.95 | area= small | maxDets=100 ] = -1.000\n",
            " Average Recall     (AR) @[ IoU=0.50:0.95 | area=medium | maxDets=100 ] = -1.000\n",
            " Average Recall     (AR) @[ IoU=0.50:0.95 | area= large | maxDets=100 ] = 0.680\n",
            "INFO:tensorflow:Finished evaluation at 2022-03-25-15:20:40\n",
            "I0325 15:20:40.562957 139746967033728 evaluation.py:275] Finished evaluation at 2022-03-25-15:20:40\n",
            "INFO:tensorflow:Saving dict for global step 46712: DetectionBoxes_Precision/mAP = 0.64084446, DetectionBoxes_Precision/mAP (large) = 0.64084446, DetectionBoxes_Precision/mAP (medium) = -1.0, DetectionBoxes_Precision/mAP (small) = -1.0, DetectionBoxes_Precision/mAP@.50IOU = 0.94051534, DetectionBoxes_Precision/mAP@.75IOU = 0.8480129, DetectionBoxes_Recall/AR@1 = 0.68027776, DetectionBoxes_Recall/AR@10 = 0.68027776, DetectionBoxes_Recall/AR@100 = 0.68027776, DetectionBoxes_Recall/AR@100 (large) = 0.68027776, DetectionBoxes_Recall/AR@100 (medium) = -1.0, DetectionBoxes_Recall/AR@100 (small) = -1.0, Loss/classification_loss = 0.39429379, Loss/localization_loss = 0.033796895, Loss/regularization_loss = 0.22924209, Loss/total_loss = 0.65733236, global_step = 46712, learning_rate = 0.004, loss = 0.65733236\n",
            "I0325 15:20:40.563289 139746967033728 estimator.py:2049] Saving dict for global step 46712: DetectionBoxes_Precision/mAP = 0.64084446, DetectionBoxes_Precision/mAP (large) = 0.64084446, DetectionBoxes_Precision/mAP (medium) = -1.0, DetectionBoxes_Precision/mAP (small) = -1.0, DetectionBoxes_Precision/mAP@.50IOU = 0.94051534, DetectionBoxes_Precision/mAP@.75IOU = 0.8480129, DetectionBoxes_Recall/AR@1 = 0.68027776, DetectionBoxes_Recall/AR@10 = 0.68027776, DetectionBoxes_Recall/AR@100 = 0.68027776, DetectionBoxes_Recall/AR@100 (large) = 0.68027776, DetectionBoxes_Recall/AR@100 (medium) = -1.0, DetectionBoxes_Recall/AR@100 (small) = -1.0, Loss/classification_loss = 0.39429379, Loss/localization_loss = 0.033796895, Loss/regularization_loss = 0.22924209, Loss/total_loss = 0.65733236, global_step = 46712, learning_rate = 0.004, loss = 0.65733236\n",
            "INFO:tensorflow:Saving 'checkpoint_path' summary for global step 46712: training/model.ckpt-46712\n",
            "I0325 15:20:41.692039 139746967033728 estimator.py:2109] Saving 'checkpoint_path' summary for global step 46712: training/model.ckpt-46712\n",
            "INFO:tensorflow:global_step/sec: 1.09183\n",
            "I0325 15:21:32.715286 139746967033728 basic_session_run_hooks.py:692] global_step/sec: 1.09183\n",
            "INFO:tensorflow:loss = 0.45349178, step = 46784 (91.590 sec)\n",
            "I0325 15:21:32.717085 139746967033728 basic_session_run_hooks.py:260] loss = 0.45349178, step = 46784 (91.590 sec)\n",
            "INFO:tensorflow:global_step/sec: 1.43529\n",
            "I0325 15:22:42.387676 139746967033728 basic_session_run_hooks.py:692] global_step/sec: 1.43529\n",
            "INFO:tensorflow:loss = 0.5148116, step = 46884 (69.672 sec)\n",
            "I0325 15:22:42.388878 139746967033728 basic_session_run_hooks.py:260] loss = 0.5148116, step = 46884 (69.672 sec)\n",
            "INFO:tensorflow:global_step/sec: 1.43567\n",
            "I0325 15:23:52.041648 139746967033728 basic_session_run_hooks.py:692] global_step/sec: 1.43567\n",
            "INFO:tensorflow:loss = 0.44224763, step = 46984 (69.655 sec)\n",
            "I0325 15:23:52.043878 139746967033728 basic_session_run_hooks.py:260] loss = 0.44224763, step = 46984 (69.655 sec)\n",
            "INFO:tensorflow:global_step/sec: 1.42754\n",
            "I0325 15:25:02.092303 139746967033728 basic_session_run_hooks.py:692] global_step/sec: 1.42754\n",
            "INFO:tensorflow:loss = 0.4123201, step = 47084 (70.050 sec)\n",
            "I0325 15:25:02.093518 139746967033728 basic_session_run_hooks.py:260] loss = 0.4123201, step = 47084 (70.050 sec)\n",
            "INFO:tensorflow:global_step/sec: 1.44666\n",
            "I0325 15:26:11.216967 139746967033728 basic_session_run_hooks.py:692] global_step/sec: 1.44666\n",
            "INFO:tensorflow:loss = 0.45983696, step = 47184 (69.126 sec)\n",
            "I0325 15:26:11.219021 139746967033728 basic_session_run_hooks.py:260] loss = 0.45983696, step = 47184 (69.126 sec)\n",
            "INFO:tensorflow:global_step/sec: 1.44102\n",
            "I0325 15:27:20.612436 139746967033728 basic_session_run_hooks.py:692] global_step/sec: 1.44102\n",
            "INFO:tensorflow:loss = 0.47063613, step = 47284 (69.395 sec)\n",
            "I0325 15:27:20.613857 139746967033728 basic_session_run_hooks.py:260] loss = 0.47063613, step = 47284 (69.395 sec)\n",
            "INFO:tensorflow:global_step/sec: 1.43368\n",
            "I0325 15:28:30.363200 139746967033728 basic_session_run_hooks.py:692] global_step/sec: 1.43368\n",
            "INFO:tensorflow:loss = 0.4909088, step = 47384 (69.751 sec)\n",
            "I0325 15:28:30.365073 139746967033728 basic_session_run_hooks.py:260] loss = 0.4909088, step = 47384 (69.751 sec)\n",
            "INFO:tensorflow:global_step/sec: 1.43162\n",
            "I0325 15:29:40.214193 139746967033728 basic_session_run_hooks.py:692] global_step/sec: 1.43162\n",
            "INFO:tensorflow:loss = 0.52634585, step = 47484 (69.850 sec)\n",
            "I0325 15:29:40.215421 139746967033728 basic_session_run_hooks.py:260] loss = 0.52634585, step = 47484 (69.850 sec)\n",
            "INFO:tensorflow:Saving checkpoints for 47542 into training/model.ckpt.\n",
            "I0325 15:30:19.962764 139746967033728 basic_session_run_hooks.py:606] Saving checkpoints for 47542 into training/model.ckpt.\n",
            "INFO:tensorflow:Skip the current checkpoint eval due to throttle secs (600 secs).\n",
            "I0325 15:30:21.891302 139746967033728 training.py:527] Skip the current checkpoint eval due to throttle secs (600 secs).\n",
            "INFO:tensorflow:global_step/sec: 1.39157\n",
            "I0325 15:30:52.075402 139746967033728 basic_session_run_hooks.py:692] global_step/sec: 1.39157\n",
            "INFO:tensorflow:loss = 0.47249648, step = 47584 (71.862 sec)\n",
            "I0325 15:30:52.077419 139746967033728 basic_session_run_hooks.py:260] loss = 0.47249648, step = 47584 (71.862 sec)\n",
            "INFO:tensorflow:global_step/sec: 1.43362\n",
            "I0325 15:32:01.828823 139746967033728 basic_session_run_hooks.py:692] global_step/sec: 1.43362\n",
            "INFO:tensorflow:loss = 0.47320473, step = 47684 (69.753 sec)\n",
            "I0325 15:32:01.830119 139746967033728 basic_session_run_hooks.py:260] loss = 0.47320473, step = 47684 (69.753 sec)\n",
            "INFO:tensorflow:global_step/sec: 1.43386\n",
            "I0325 15:33:11.570624 139746967033728 basic_session_run_hooks.py:692] global_step/sec: 1.43386\n",
            "INFO:tensorflow:loss = 0.48347354, step = 47784 (69.742 sec)\n",
            "I0325 15:33:11.572609 139746967033728 basic_session_run_hooks.py:260] loss = 0.48347354, step = 47784 (69.742 sec)\n",
            "INFO:tensorflow:global_step/sec: 1.42985\n",
            "I0325 15:34:21.507947 139746967033728 basic_session_run_hooks.py:692] global_step/sec: 1.42985\n",
            "INFO:tensorflow:loss = 0.49905747, step = 47884 (69.937 sec)\n",
            "I0325 15:34:21.509373 139746967033728 basic_session_run_hooks.py:260] loss = 0.49905747, step = 47884 (69.937 sec)\n",
            "INFO:tensorflow:global_step/sec: 1.42622\n",
            "I0325 15:35:31.623545 139746967033728 basic_session_run_hooks.py:692] global_step/sec: 1.42622\n",
            "INFO:tensorflow:loss = 0.41722316, step = 47984 (70.116 sec)\n",
            "I0325 15:35:31.625414 139746967033728 basic_session_run_hooks.py:260] loss = 0.41722316, step = 47984 (70.116 sec)\n",
            "INFO:tensorflow:global_step/sec: 1.43793\n",
            "I0325 15:36:41.167683 139746967033728 basic_session_run_hooks.py:692] global_step/sec: 1.43793\n",
            "INFO:tensorflow:loss = 0.4441406, step = 48084 (69.544 sec)\n",
            "I0325 15:36:41.169221 139746967033728 basic_session_run_hooks.py:260] loss = 0.4441406, step = 48084 (69.544 sec)\n",
            "INFO:tensorflow:global_step/sec: 1.44263\n",
            "I0325 15:37:50.485593 139746967033728 basic_session_run_hooks.py:692] global_step/sec: 1.44263\n",
            "INFO:tensorflow:loss = 0.48578948, step = 48184 (69.318 sec)\n",
            "I0325 15:37:50.487577 139746967033728 basic_session_run_hooks.py:260] loss = 0.48578948, step = 48184 (69.318 sec)\n",
            "INFO:tensorflow:global_step/sec: 1.43923\n",
            "I0325 15:38:59.967174 139746967033728 basic_session_run_hooks.py:692] global_step/sec: 1.43923\n",
            "INFO:tensorflow:loss = 0.42708594, step = 48284 (69.481 sec)\n",
            "I0325 15:38:59.968530 139746967033728 basic_session_run_hooks.py:260] loss = 0.42708594, step = 48284 (69.481 sec)\n",
            "INFO:tensorflow:global_step/sec: 1.43745\n",
            "I0325 15:40:09.534577 139746967033728 basic_session_run_hooks.py:692] global_step/sec: 1.43745\n",
            "INFO:tensorflow:loss = 0.4419927, step = 48384 (69.569 sec)\n",
            "I0325 15:40:09.537075 139746967033728 basic_session_run_hooks.py:260] loss = 0.4419927, step = 48384 (69.569 sec)\n",
            "INFO:tensorflow:Saving checkpoints for 48400 into training/model.ckpt.\n",
            "I0325 15:40:19.987515 139746967033728 basic_session_run_hooks.py:606] Saving checkpoints for 48400 into training/model.ckpt.\n",
            "WARNING:tensorflow:Entity <bound method TfExampleDecoder.decode of <object_detection.data_decoders.tf_example_decoder.TfExampleDecoder object at 0x7f18896d5890>> could not be transformed and will be executed as-is. Please report this to the AutoGraph team. When filing the bug, set the verbosity to 10 (on Linux, `export AUTOGRAPH_VERBOSITY=10`) and attach the full output. Cause: module 'gast' has no attribute 'Index'\n",
            "W0325 15:40:22.089814 139746967033728 ag_logging.py:146] Entity <bound method TfExampleDecoder.decode of <object_detection.data_decoders.tf_example_decoder.TfExampleDecoder object at 0x7f18896d5890>> could not be transformed and will be executed as-is. Please report this to the AutoGraph team. When filing the bug, set the verbosity to 10 (on Linux, `export AUTOGRAPH_VERBOSITY=10`) and attach the full output. Cause: module 'gast' has no attribute 'Index'\n",
            "WARNING:tensorflow:Entity <function eval_input.<locals>.transform_and_pad_input_data_fn at 0x7f18891245f0> could not be transformed and will be executed as-is. Please report this to the AutoGraph team. When filing the bug, set the verbosity to 10 (on Linux, `export AUTOGRAPH_VERBOSITY=10`) and attach the full output. Cause: module 'gast' has no attribute 'Str'\n",
            "W0325 15:40:22.326567 139746967033728 ag_logging.py:146] Entity <function eval_input.<locals>.transform_and_pad_input_data_fn at 0x7f18891245f0> could not be transformed and will be executed as-is. Please report this to the AutoGraph team. When filing the bug, set the verbosity to 10 (on Linux, `export AUTOGRAPH_VERBOSITY=10`) and attach the full output. Cause: module 'gast' has no attribute 'Str'\n",
            "INFO:tensorflow:Calling model_fn.\n",
            "I0325 15:40:23.323875 139746967033728 estimator.py:1148] Calling model_fn.\n",
            "INFO:tensorflow:depth of additional conv before box predictor: 0\n",
            "I0325 15:40:26.004778 139746967033728 convolutional_box_predictor.py:156] depth of additional conv before box predictor: 0\n",
            "INFO:tensorflow:depth of additional conv before box predictor: 0\n",
            "I0325 15:40:26.042004 139746967033728 convolutional_box_predictor.py:156] depth of additional conv before box predictor: 0\n",
            "INFO:tensorflow:depth of additional conv before box predictor: 0\n",
            "I0325 15:40:26.077611 139746967033728 convolutional_box_predictor.py:156] depth of additional conv before box predictor: 0\n",
            "INFO:tensorflow:depth of additional conv before box predictor: 0\n",
            "I0325 15:40:26.115899 139746967033728 convolutional_box_predictor.py:156] depth of additional conv before box predictor: 0\n",
            "INFO:tensorflow:depth of additional conv before box predictor: 0\n",
            "I0325 15:40:26.151892 139746967033728 convolutional_box_predictor.py:156] depth of additional conv before box predictor: 0\n",
            "INFO:tensorflow:depth of additional conv before box predictor: 0\n",
            "I0325 15:40:26.188913 139746967033728 convolutional_box_predictor.py:156] depth of additional conv before box predictor: 0\n",
            "INFO:tensorflow:Done calling model_fn.\n",
            "I0325 15:40:29.407860 139746967033728 estimator.py:1150] Done calling model_fn.\n",
            "INFO:tensorflow:Starting evaluation at 2022-03-25T15:40:29Z\n",
            "I0325 15:40:29.428063 139746967033728 evaluation.py:255] Starting evaluation at 2022-03-25T15:40:29Z\n",
            "INFO:tensorflow:Graph was finalized.\n",
            "I0325 15:40:29.969280 139746967033728 monitored_session.py:240] Graph was finalized.\n",
            "2022-03-25 15:40:29.970268: I tensorflow/stream_executor/cuda/cuda_gpu_executor.cc:983] successful NUMA node read from SysFS had negative value (-1), but there must be at least one NUMA node, so returning NUMA node zero\n",
            "2022-03-25 15:40:29.970939: I tensorflow/core/common_runtime/gpu/gpu_device.cc:1639] Found device 0 with properties: \n",
            "name: Tesla K80 major: 3 minor: 7 memoryClockRate(GHz): 0.8235\n",
            "pciBusID: 0000:00:04.0\n",
            "2022-03-25 15:40:29.971044: I tensorflow/stream_executor/platform/default/dso_loader.cc:44] Successfully opened dynamic library libcudart.so.10.1\n",
            "2022-03-25 15:40:29.971096: I tensorflow/stream_executor/platform/default/dso_loader.cc:44] Successfully opened dynamic library libcublas.so.10\n",
            "2022-03-25 15:40:29.971146: I tensorflow/stream_executor/platform/default/dso_loader.cc:44] Successfully opened dynamic library libcufft.so.10\n",
            "2022-03-25 15:40:29.971224: I tensorflow/stream_executor/platform/default/dso_loader.cc:44] Successfully opened dynamic library libcurand.so.10\n",
            "2022-03-25 15:40:29.971276: I tensorflow/stream_executor/platform/default/dso_loader.cc:44] Successfully opened dynamic library libcusolver.so.10\n",
            "2022-03-25 15:40:29.971326: I tensorflow/stream_executor/platform/default/dso_loader.cc:44] Successfully opened dynamic library libcusparse.so.10\n",
            "2022-03-25 15:40:29.971384: I tensorflow/stream_executor/platform/default/dso_loader.cc:44] Successfully opened dynamic library libcudnn.so.7\n",
            "2022-03-25 15:40:29.971503: I tensorflow/stream_executor/cuda/cuda_gpu_executor.cc:983] successful NUMA node read from SysFS had negative value (-1), but there must be at least one NUMA node, so returning NUMA node zero\n",
            "2022-03-25 15:40:29.972144: I tensorflow/stream_executor/cuda/cuda_gpu_executor.cc:983] successful NUMA node read from SysFS had negative value (-1), but there must be at least one NUMA node, so returning NUMA node zero\n",
            "2022-03-25 15:40:29.972681: I tensorflow/core/common_runtime/gpu/gpu_device.cc:1767] Adding visible gpu devices: 0\n",
            "2022-03-25 15:40:29.972742: I tensorflow/core/common_runtime/gpu/gpu_device.cc:1180] Device interconnect StreamExecutor with strength 1 edge matrix:\n",
            "2022-03-25 15:40:29.972770: I tensorflow/core/common_runtime/gpu/gpu_device.cc:1186]      0 \n",
            "2022-03-25 15:40:29.972787: I tensorflow/core/common_runtime/gpu/gpu_device.cc:1199] 0:   N \n",
            "2022-03-25 15:40:29.972947: I tensorflow/stream_executor/cuda/cuda_gpu_executor.cc:983] successful NUMA node read from SysFS had negative value (-1), but there must be at least one NUMA node, so returning NUMA node zero\n",
            "2022-03-25 15:40:29.973570: I tensorflow/stream_executor/cuda/cuda_gpu_executor.cc:983] successful NUMA node read from SysFS had negative value (-1), but there must be at least one NUMA node, so returning NUMA node zero\n",
            "2022-03-25 15:40:29.974113: I tensorflow/core/common_runtime/gpu/gpu_device.cc:1325] Created TensorFlow device (/job:localhost/replica:0/task:0/device:GPU:0 with 10813 MB memory) -> physical GPU (device: 0, name: Tesla K80, pci bus id: 0000:00:04.0, compute capability: 3.7)\n",
            "INFO:tensorflow:Restoring parameters from training/model.ckpt-48400\n",
            "I0325 15:40:29.976875 139746967033728 saver.py:1284] Restoring parameters from training/model.ckpt-48400\n",
            "INFO:tensorflow:Running local_init_op.\n",
            "I0325 15:40:31.155776 139746967033728 session_manager.py:500] Running local_init_op.\n",
            "INFO:tensorflow:Done running local_init_op.\n",
            "I0325 15:40:31.332480 139746967033728 session_manager.py:502] Done running local_init_op.\n",
            "INFO:tensorflow:Performing evaluation on 72 images.\n",
            "I0325 15:40:38.569679 139744883185408 coco_evaluation.py:237] Performing evaluation on 72 images.\n",
            "creating index...\n",
            "index created!\n",
            "INFO:tensorflow:Loading and preparing annotation results...\n",
            "I0325 15:40:38.570619 139744883185408 coco_tools.py:116] Loading and preparing annotation results...\n",
            "INFO:tensorflow:DONE (t=0.00s)\n",
            "I0325 15:40:38.575320 139744883185408 coco_tools.py:138] DONE (t=0.00s)\n",
            "creating index...\n",
            "index created!\n",
            "Running per image evaluation...\n",
            "Evaluate annotation type *bbox*\n",
            "DONE (t=0.89s).\n",
            "Accumulating evaluation results...\n",
            "DONE (t=0.26s).\n",
            " Average Precision  (AP) @[ IoU=0.50:0.95 | area=   all | maxDets=100 ] = 0.717\n",
            " Average Precision  (AP) @[ IoU=0.50      | area=   all | maxDets=100 ] = 0.951\n",
            " Average Precision  (AP) @[ IoU=0.75      | area=   all | maxDets=100 ] = 0.908\n",
            " Average Precision  (AP) @[ IoU=0.50:0.95 | area= small | maxDets=100 ] = -1.000\n",
            " Average Precision  (AP) @[ IoU=0.50:0.95 | area=medium | maxDets=100 ] = -1.000\n",
            " Average Precision  (AP) @[ IoU=0.50:0.95 | area= large | maxDets=100 ] = 0.717\n",
            " Average Recall     (AR) @[ IoU=0.50:0.95 | area=   all | maxDets=  1 ] = 0.765\n",
            " Average Recall     (AR) @[ IoU=0.50:0.95 | area=   all | maxDets= 10 ] = 0.765\n",
            " Average Recall     (AR) @[ IoU=0.50:0.95 | area=   all | maxDets=100 ] = 0.765\n",
            " Average Recall     (AR) @[ IoU=0.50:0.95 | area= small | maxDets=100 ] = -1.000\n",
            " Average Recall     (AR) @[ IoU=0.50:0.95 | area=medium | maxDets=100 ] = -1.000\n",
            " Average Recall     (AR) @[ IoU=0.50:0.95 | area= large | maxDets=100 ] = 0.765\n",
            "INFO:tensorflow:Finished evaluation at 2022-03-25-15:40:39\n",
            "I0325 15:40:39.849234 139746967033728 evaluation.py:275] Finished evaluation at 2022-03-25-15:40:39\n",
            "INFO:tensorflow:Saving dict for global step 48400: DetectionBoxes_Precision/mAP = 0.7167084, DetectionBoxes_Precision/mAP (large) = 0.7167084, DetectionBoxes_Precision/mAP (medium) = -1.0, DetectionBoxes_Precision/mAP (small) = -1.0, DetectionBoxes_Precision/mAP@.50IOU = 0.9505656, DetectionBoxes_Precision/mAP@.75IOU = 0.9076939, DetectionBoxes_Recall/AR@1 = 0.765, DetectionBoxes_Recall/AR@10 = 0.765, DetectionBoxes_Recall/AR@100 = 0.765, DetectionBoxes_Recall/AR@100 (large) = 0.765, DetectionBoxes_Recall/AR@100 (medium) = -1.0, DetectionBoxes_Recall/AR@100 (small) = -1.0, Loss/classification_loss = 0.38599986, Loss/localization_loss = 0.029899172, Loss/regularization_loss = 0.22821832, Loss/total_loss = 0.64411765, global_step = 48400, learning_rate = 0.004, loss = 0.64411765\n",
            "I0325 15:40:39.849584 139746967033728 estimator.py:2049] Saving dict for global step 48400: DetectionBoxes_Precision/mAP = 0.7167084, DetectionBoxes_Precision/mAP (large) = 0.7167084, DetectionBoxes_Precision/mAP (medium) = -1.0, DetectionBoxes_Precision/mAP (small) = -1.0, DetectionBoxes_Precision/mAP@.50IOU = 0.9505656, DetectionBoxes_Precision/mAP@.75IOU = 0.9076939, DetectionBoxes_Recall/AR@1 = 0.765, DetectionBoxes_Recall/AR@10 = 0.765, DetectionBoxes_Recall/AR@100 = 0.765, DetectionBoxes_Recall/AR@100 (large) = 0.765, DetectionBoxes_Recall/AR@100 (medium) = -1.0, DetectionBoxes_Recall/AR@100 (small) = -1.0, Loss/classification_loss = 0.38599986, Loss/localization_loss = 0.029899172, Loss/regularization_loss = 0.22821832, Loss/total_loss = 0.64411765, global_step = 48400, learning_rate = 0.004, loss = 0.64411765\n",
            "INFO:tensorflow:Saving 'checkpoint_path' summary for global step 48400: training/model.ckpt-48400\n",
            "I0325 15:40:39.855109 139746967033728 estimator.py:2109] Saving 'checkpoint_path' summary for global step 48400: training/model.ckpt-48400\n",
            "INFO:tensorflow:global_step/sec: 1.11557\n",
            "I0325 15:41:39.174925 139746967033728 basic_session_run_hooks.py:692] global_step/sec: 1.11557\n",
            "INFO:tensorflow:loss = 0.4820252, step = 48484 (89.639 sec)\n",
            "I0325 15:41:39.176429 139746967033728 basic_session_run_hooks.py:260] loss = 0.4820252, step = 48484 (89.639 sec)\n",
            "INFO:tensorflow:global_step/sec: 1.43814\n",
            "I0325 15:42:48.708964 139746967033728 basic_session_run_hooks.py:692] global_step/sec: 1.43814\n",
            "INFO:tensorflow:loss = 0.42763183, step = 48584 (69.534 sec)\n",
            "I0325 15:42:48.710731 139746967033728 basic_session_run_hooks.py:260] loss = 0.42763183, step = 48584 (69.534 sec)\n",
            "INFO:tensorflow:global_step/sec: 1.43586\n",
            "I0325 15:43:58.353840 139746967033728 basic_session_run_hooks.py:692] global_step/sec: 1.43586\n",
            "INFO:tensorflow:loss = 0.42079496, step = 48684 (69.645 sec)\n",
            "I0325 15:43:58.355293 139746967033728 basic_session_run_hooks.py:260] loss = 0.42079496, step = 48684 (69.645 sec)\n",
            "INFO:tensorflow:global_step/sec: 1.43369\n",
            "I0325 15:45:08.103739 139746967033728 basic_session_run_hooks.py:692] global_step/sec: 1.43369\n",
            "INFO:tensorflow:loss = 0.44665003, step = 48784 (69.751 sec)\n",
            "I0325 15:45:08.105916 139746967033728 basic_session_run_hooks.py:260] loss = 0.44665003, step = 48784 (69.751 sec)\n",
            "INFO:tensorflow:global_step/sec: 1.44197\n",
            "I0325 15:46:17.453407 139746967033728 basic_session_run_hooks.py:692] global_step/sec: 1.44197\n",
            "INFO:tensorflow:loss = 0.44663543, step = 48884 (69.349 sec)\n",
            "I0325 15:46:17.454596 139746967033728 basic_session_run_hooks.py:260] loss = 0.44663543, step = 48884 (69.349 sec)\n",
            "INFO:tensorflow:global_step/sec: 1.43364\n",
            "I0325 15:47:27.206160 139746967033728 basic_session_run_hooks.py:692] global_step/sec: 1.43364\n",
            "INFO:tensorflow:loss = 0.43423185, step = 48984 (69.754 sec)\n",
            "I0325 15:47:27.208464 139746967033728 basic_session_run_hooks.py:260] loss = 0.43423185, step = 48984 (69.754 sec)\n",
            "INFO:tensorflow:global_step/sec: 1.4325\n",
            "I0325 15:48:37.014106 139746967033728 basic_session_run_hooks.py:692] global_step/sec: 1.4325\n",
            "INFO:tensorflow:loss = 0.4764005, step = 49084 (69.807 sec)\n",
            "I0325 15:48:37.015378 139746967033728 basic_session_run_hooks.py:260] loss = 0.4764005, step = 49084 (69.807 sec)\n",
            "INFO:tensorflow:global_step/sec: 1.43815\n",
            "I0325 15:49:46.548092 139746967033728 basic_session_run_hooks.py:692] global_step/sec: 1.43815\n",
            "INFO:tensorflow:loss = 0.4619316, step = 49184 (69.535 sec)\n",
            "I0325 15:49:46.550037 139746967033728 basic_session_run_hooks.py:260] loss = 0.4619316, step = 49184 (69.535 sec)\n",
            "INFO:tensorflow:Saving checkpoints for 49234 into training/model.ckpt.\n",
            "I0325 15:50:20.485078 139746967033728 basic_session_run_hooks.py:606] Saving checkpoints for 49234 into training/model.ckpt.\n",
            "WARNING:tensorflow:Entity <bound method TfExampleDecoder.decode of <object_detection.data_decoders.tf_example_decoder.TfExampleDecoder object at 0x7f188f11f950>> could not be transformed and will be executed as-is. Please report this to the AutoGraph team. When filing the bug, set the verbosity to 10 (on Linux, `export AUTOGRAPH_VERBOSITY=10`) and attach the full output. Cause: module 'gast' has no attribute 'Index'\n",
            "W0325 15:50:22.628226 139746967033728 ag_logging.py:146] Entity <bound method TfExampleDecoder.decode of <object_detection.data_decoders.tf_example_decoder.TfExampleDecoder object at 0x7f188f11f950>> could not be transformed and will be executed as-is. Please report this to the AutoGraph team. When filing the bug, set the verbosity to 10 (on Linux, `export AUTOGRAPH_VERBOSITY=10`) and attach the full output. Cause: module 'gast' has no attribute 'Index'\n",
            "WARNING:tensorflow:Entity <function eval_input.<locals>.transform_and_pad_input_data_fn at 0x7f188f1a3710> could not be transformed and will be executed as-is. Please report this to the AutoGraph team. When filing the bug, set the verbosity to 10 (on Linux, `export AUTOGRAPH_VERBOSITY=10`) and attach the full output. Cause: module 'gast' has no attribute 'Str'\n",
            "W0325 15:50:22.863000 139746967033728 ag_logging.py:146] Entity <function eval_input.<locals>.transform_and_pad_input_data_fn at 0x7f188f1a3710> could not be transformed and will be executed as-is. Please report this to the AutoGraph team. When filing the bug, set the verbosity to 10 (on Linux, `export AUTOGRAPH_VERBOSITY=10`) and attach the full output. Cause: module 'gast' has no attribute 'Str'\n",
            "INFO:tensorflow:Calling model_fn.\n",
            "I0325 15:50:23.526047 139746967033728 estimator.py:1148] Calling model_fn.\n",
            "INFO:tensorflow:depth of additional conv before box predictor: 0\n",
            "I0325 15:50:26.693860 139746967033728 convolutional_box_predictor.py:156] depth of additional conv before box predictor: 0\n",
            "INFO:tensorflow:depth of additional conv before box predictor: 0\n",
            "I0325 15:50:26.734242 139746967033728 convolutional_box_predictor.py:156] depth of additional conv before box predictor: 0\n",
            "INFO:tensorflow:depth of additional conv before box predictor: 0\n",
            "I0325 15:50:26.773017 139746967033728 convolutional_box_predictor.py:156] depth of additional conv before box predictor: 0\n",
            "INFO:tensorflow:depth of additional conv before box predictor: 0\n",
            "I0325 15:50:26.812918 139746967033728 convolutional_box_predictor.py:156] depth of additional conv before box predictor: 0\n",
            "INFO:tensorflow:depth of additional conv before box predictor: 0\n",
            "I0325 15:50:26.852108 139746967033728 convolutional_box_predictor.py:156] depth of additional conv before box predictor: 0\n",
            "INFO:tensorflow:depth of additional conv before box predictor: 0\n",
            "I0325 15:50:26.891481 139746967033728 convolutional_box_predictor.py:156] depth of additional conv before box predictor: 0\n",
            "INFO:tensorflow:Done calling model_fn.\n",
            "I0325 15:50:30.223590 139746967033728 estimator.py:1150] Done calling model_fn.\n",
            "INFO:tensorflow:Starting evaluation at 2022-03-25T15:50:30Z\n",
            "I0325 15:50:30.245474 139746967033728 evaluation.py:255] Starting evaluation at 2022-03-25T15:50:30Z\n",
            "INFO:tensorflow:Graph was finalized.\n",
            "I0325 15:50:30.860923 139746967033728 monitored_session.py:240] Graph was finalized.\n",
            "2022-03-25 15:50:30.861805: I tensorflow/stream_executor/cuda/cuda_gpu_executor.cc:983] successful NUMA node read from SysFS had negative value (-1), but there must be at least one NUMA node, so returning NUMA node zero\n",
            "2022-03-25 15:50:30.862463: I tensorflow/core/common_runtime/gpu/gpu_device.cc:1639] Found device 0 with properties: \n",
            "name: Tesla K80 major: 3 minor: 7 memoryClockRate(GHz): 0.8235\n",
            "pciBusID: 0000:00:04.0\n",
            "2022-03-25 15:50:30.862606: I tensorflow/stream_executor/platform/default/dso_loader.cc:44] Successfully opened dynamic library libcudart.so.10.1\n",
            "2022-03-25 15:50:30.862673: I tensorflow/stream_executor/platform/default/dso_loader.cc:44] Successfully opened dynamic library libcublas.so.10\n",
            "2022-03-25 15:50:30.862738: I tensorflow/stream_executor/platform/default/dso_loader.cc:44] Successfully opened dynamic library libcufft.so.10\n",
            "2022-03-25 15:50:30.862824: I tensorflow/stream_executor/platform/default/dso_loader.cc:44] Successfully opened dynamic library libcurand.so.10\n",
            "2022-03-25 15:50:30.862896: I tensorflow/stream_executor/platform/default/dso_loader.cc:44] Successfully opened dynamic library libcusolver.so.10\n",
            "2022-03-25 15:50:30.862961: I tensorflow/stream_executor/platform/default/dso_loader.cc:44] Successfully opened dynamic library libcusparse.so.10\n",
            "2022-03-25 15:50:30.863022: I tensorflow/stream_executor/platform/default/dso_loader.cc:44] Successfully opened dynamic library libcudnn.so.7\n",
            "2022-03-25 15:50:30.863137: I tensorflow/stream_executor/cuda/cuda_gpu_executor.cc:983] successful NUMA node read from SysFS had negative value (-1), but there must be at least one NUMA node, so returning NUMA node zero\n",
            "2022-03-25 15:50:30.863769: I tensorflow/stream_executor/cuda/cuda_gpu_executor.cc:983] successful NUMA node read from SysFS had negative value (-1), but there must be at least one NUMA node, so returning NUMA node zero\n",
            "2022-03-25 15:50:30.865149: I tensorflow/core/common_runtime/gpu/gpu_device.cc:1767] Adding visible gpu devices: 0\n",
            "2022-03-25 15:50:30.865259: I tensorflow/core/common_runtime/gpu/gpu_device.cc:1180] Device interconnect StreamExecutor with strength 1 edge matrix:\n",
            "2022-03-25 15:50:30.865290: I tensorflow/core/common_runtime/gpu/gpu_device.cc:1186]      0 \n",
            "2022-03-25 15:50:30.865309: I tensorflow/core/common_runtime/gpu/gpu_device.cc:1199] 0:   N \n",
            "2022-03-25 15:50:30.865507: I tensorflow/stream_executor/cuda/cuda_gpu_executor.cc:983] successful NUMA node read from SysFS had negative value (-1), but there must be at least one NUMA node, so returning NUMA node zero\n",
            "2022-03-25 15:50:30.866146: I tensorflow/stream_executor/cuda/cuda_gpu_executor.cc:983] successful NUMA node read from SysFS had negative value (-1), but there must be at least one NUMA node, so returning NUMA node zero\n",
            "2022-03-25 15:50:30.866715: I tensorflow/core/common_runtime/gpu/gpu_device.cc:1325] Created TensorFlow device (/job:localhost/replica:0/task:0/device:GPU:0 with 10813 MB memory) -> physical GPU (device: 0, name: Tesla K80, pci bus id: 0000:00:04.0, compute capability: 3.7)\n",
            "INFO:tensorflow:Restoring parameters from training/model.ckpt-49234\n",
            "I0325 15:50:30.869534 139746967033728 saver.py:1284] Restoring parameters from training/model.ckpt-49234\n",
            "INFO:tensorflow:Running local_init_op.\n",
            "I0325 15:50:32.048003 139746967033728 session_manager.py:500] Running local_init_op.\n",
            "INFO:tensorflow:Done running local_init_op.\n",
            "I0325 15:50:32.219947 139746967033728 session_manager.py:502] Done running local_init_op.\n",
            "INFO:tensorflow:Performing evaluation on 72 images.\n",
            "I0325 15:50:39.129348 139744874792704 coco_evaluation.py:237] Performing evaluation on 72 images.\n",
            "creating index...\n",
            "index created!\n",
            "INFO:tensorflow:Loading and preparing annotation results...\n",
            "I0325 15:50:39.129957 139744874792704 coco_tools.py:116] Loading and preparing annotation results...\n",
            "INFO:tensorflow:DONE (t=0.01s)\n",
            "I0325 15:50:39.135185 139744874792704 coco_tools.py:138] DONE (t=0.01s)\n",
            "creating index...\n",
            "index created!\n",
            "Running per image evaluation...\n",
            "Evaluate annotation type *bbox*\n",
            "DONE (t=0.88s).\n",
            "Accumulating evaluation results...\n",
            "DONE (t=0.25s).\n",
            " Average Precision  (AP) @[ IoU=0.50:0.95 | area=   all | maxDets=100 ] = 0.674\n",
            " Average Precision  (AP) @[ IoU=0.50      | area=   all | maxDets=100 ] = 0.955\n",
            " Average Precision  (AP) @[ IoU=0.75      | area=   all | maxDets=100 ] = 0.885\n",
            " Average Precision  (AP) @[ IoU=0.50:0.95 | area= small | maxDets=100 ] = -1.000\n",
            " Average Precision  (AP) @[ IoU=0.50:0.95 | area=medium | maxDets=100 ] = -1.000\n",
            " Average Precision  (AP) @[ IoU=0.50:0.95 | area= large | maxDets=100 ] = 0.674\n",
            " Average Recall     (AR) @[ IoU=0.50:0.95 | area=   all | maxDets=  1 ] = 0.714\n",
            " Average Recall     (AR) @[ IoU=0.50:0.95 | area=   all | maxDets= 10 ] = 0.714\n",
            " Average Recall     (AR) @[ IoU=0.50:0.95 | area=   all | maxDets=100 ] = 0.714\n",
            " Average Recall     (AR) @[ IoU=0.50:0.95 | area= small | maxDets=100 ] = -1.000\n",
            " Average Recall     (AR) @[ IoU=0.50:0.95 | area=medium | maxDets=100 ] = -1.000\n",
            " Average Recall     (AR) @[ IoU=0.50:0.95 | area= large | maxDets=100 ] = 0.714\n",
            "INFO:tensorflow:Finished evaluation at 2022-03-25-15:50:40\n",
            "I0325 15:50:40.386864 139746967033728 evaluation.py:275] Finished evaluation at 2022-03-25-15:50:40\n",
            "INFO:tensorflow:Saving dict for global step 49234: DetectionBoxes_Precision/mAP = 0.6739015, DetectionBoxes_Precision/mAP (large) = 0.6739015, DetectionBoxes_Precision/mAP (medium) = -1.0, DetectionBoxes_Precision/mAP (small) = -1.0, DetectionBoxes_Precision/mAP@.50IOU = 0.95463675, DetectionBoxes_Precision/mAP@.75IOU = 0.8854167, DetectionBoxes_Recall/AR@1 = 0.7135417, DetectionBoxes_Recall/AR@10 = 0.7135417, DetectionBoxes_Recall/AR@100 = 0.7135417, DetectionBoxes_Recall/AR@100 (large) = 0.7135417, DetectionBoxes_Recall/AR@100 (medium) = -1.0, DetectionBoxes_Recall/AR@100 (small) = -1.0, Loss/classification_loss = 0.37748298, Loss/localization_loss = 0.025025224, Loss/regularization_loss = 0.2277135, Loss/total_loss = 0.6302216, global_step = 49234, learning_rate = 0.004, loss = 0.6302216\n",
            "I0325 15:50:40.387212 139746967033728 estimator.py:2049] Saving dict for global step 49234: DetectionBoxes_Precision/mAP = 0.6739015, DetectionBoxes_Precision/mAP (large) = 0.6739015, DetectionBoxes_Precision/mAP (medium) = -1.0, DetectionBoxes_Precision/mAP (small) = -1.0, DetectionBoxes_Precision/mAP@.50IOU = 0.95463675, DetectionBoxes_Precision/mAP@.75IOU = 0.8854167, DetectionBoxes_Recall/AR@1 = 0.7135417, DetectionBoxes_Recall/AR@10 = 0.7135417, DetectionBoxes_Recall/AR@100 = 0.7135417, DetectionBoxes_Recall/AR@100 (large) = 0.7135417, DetectionBoxes_Recall/AR@100 (medium) = -1.0, DetectionBoxes_Recall/AR@100 (small) = -1.0, Loss/classification_loss = 0.37748298, Loss/localization_loss = 0.025025224, Loss/regularization_loss = 0.2277135, Loss/total_loss = 0.6302216, global_step = 49234, learning_rate = 0.004, loss = 0.6302216\n",
            "INFO:tensorflow:Saving 'checkpoint_path' summary for global step 49234: training/model.ckpt-49234\n",
            "I0325 15:50:40.392043 139746967033728 estimator.py:2109] Saving 'checkpoint_path' summary for global step 49234: training/model.ckpt-49234\n",
            "INFO:tensorflow:global_step/sec: 1.12146\n",
            "I0325 15:51:15.717236 139746967033728 basic_session_run_hooks.py:692] global_step/sec: 1.12146\n",
            "INFO:tensorflow:loss = 0.4725864, step = 49284 (89.168 sec)\n",
            "I0325 15:51:15.718456 139746967033728 basic_session_run_hooks.py:260] loss = 0.4725864, step = 49284 (89.168 sec)\n",
            "INFO:tensorflow:global_step/sec: 1.44569\n",
            "I0325 15:52:24.888242 139746967033728 basic_session_run_hooks.py:692] global_step/sec: 1.44569\n",
            "INFO:tensorflow:loss = 0.43242773, step = 49384 (69.172 sec)\n",
            "I0325 15:52:24.890127 139746967033728 basic_session_run_hooks.py:260] loss = 0.43242773, step = 49384 (69.172 sec)\n",
            "INFO:tensorflow:global_step/sec: 1.43549\n",
            "I0325 15:53:34.551006 139746967033728 basic_session_run_hooks.py:692] global_step/sec: 1.43549\n",
            "INFO:tensorflow:loss = 0.5170643, step = 49484 (69.662 sec)\n",
            "I0325 15:53:34.552443 139746967033728 basic_session_run_hooks.py:260] loss = 0.5170643, step = 49484 (69.662 sec)\n",
            "INFO:tensorflow:global_step/sec: 1.43313\n",
            "I0325 15:54:44.328536 139746967033728 basic_session_run_hooks.py:692] global_step/sec: 1.43313\n",
            "INFO:tensorflow:loss = 0.4429267, step = 49584 (69.778 sec)\n",
            "I0325 15:54:44.330828 139746967033728 basic_session_run_hooks.py:260] loss = 0.4429267, step = 49584 (69.778 sec)\n",
            "INFO:tensorflow:global_step/sec: 1.43152\n",
            "I0325 15:55:54.184240 139746967033728 basic_session_run_hooks.py:692] global_step/sec: 1.43152\n",
            "INFO:tensorflow:loss = 0.42044744, step = 49684 (69.855 sec)\n",
            "I0325 15:55:54.185586 139746967033728 basic_session_run_hooks.py:260] loss = 0.42044744, step = 49684 (69.855 sec)\n",
            "INFO:tensorflow:global_step/sec: 1.4385\n",
            "I0325 15:57:03.701089 139746967033728 basic_session_run_hooks.py:692] global_step/sec: 1.4385\n",
            "INFO:tensorflow:loss = 0.45942613, step = 49784 (69.518 sec)\n",
            "I0325 15:57:03.703315 139746967033728 basic_session_run_hooks.py:260] loss = 0.45942613, step = 49784 (69.518 sec)\n",
            "INFO:tensorflow:global_step/sec: 1.43176\n",
            "I0325 15:58:13.545338 139746967033728 basic_session_run_hooks.py:692] global_step/sec: 1.43176\n",
            "INFO:tensorflow:loss = 0.46412164, step = 49884 (69.843 sec)\n",
            "I0325 15:58:13.546726 139746967033728 basic_session_run_hooks.py:260] loss = 0.46412164, step = 49884 (69.843 sec)\n",
            "INFO:tensorflow:global_step/sec: 1.4301\n",
            "I0325 15:59:23.470343 139746967033728 basic_session_run_hooks.py:692] global_step/sec: 1.4301\n",
            "INFO:tensorflow:loss = 0.47677803, step = 49984 (69.925 sec)\n",
            "I0325 15:59:23.472215 139746967033728 basic_session_run_hooks.py:260] loss = 0.47677803, step = 49984 (69.925 sec)\n",
            "INFO:tensorflow:Saving checkpoints for 50068 into training/model.ckpt.\n",
            "I0325 16:00:21.189258 139746967033728 basic_session_run_hooks.py:606] Saving checkpoints for 50068 into training/model.ckpt.\n",
            "WARNING:tensorflow:Entity <bound method TfExampleDecoder.decode of <object_detection.data_decoders.tf_example_decoder.TfExampleDecoder object at 0x7f18e12ed8d0>> could not be transformed and will be executed as-is. Please report this to the AutoGraph team. When filing the bug, set the verbosity to 10 (on Linux, `export AUTOGRAPH_VERBOSITY=10`) and attach the full output. Cause: module 'gast' has no attribute 'Index'\n",
            "W0325 16:00:23.369251 139746967033728 ag_logging.py:146] Entity <bound method TfExampleDecoder.decode of <object_detection.data_decoders.tf_example_decoder.TfExampleDecoder object at 0x7f18e12ed8d0>> could not be transformed and will be executed as-is. Please report this to the AutoGraph team. When filing the bug, set the verbosity to 10 (on Linux, `export AUTOGRAPH_VERBOSITY=10`) and attach the full output. Cause: module 'gast' has no attribute 'Index'\n",
            "WARNING:tensorflow:Entity <function eval_input.<locals>.transform_and_pad_input_data_fn at 0x7f18e12b90e0> could not be transformed and will be executed as-is. Please report this to the AutoGraph team. When filing the bug, set the verbosity to 10 (on Linux, `export AUTOGRAPH_VERBOSITY=10`) and attach the full output. Cause: module 'gast' has no attribute 'Str'\n",
            "W0325 16:00:23.615936 139746967033728 ag_logging.py:146] Entity <function eval_input.<locals>.transform_and_pad_input_data_fn at 0x7f18e12b90e0> could not be transformed and will be executed as-is. Please report this to the AutoGraph team. When filing the bug, set the verbosity to 10 (on Linux, `export AUTOGRAPH_VERBOSITY=10`) and attach the full output. Cause: module 'gast' has no attribute 'Str'\n",
            "INFO:tensorflow:Calling model_fn.\n",
            "I0325 16:00:24.304464 139746967033728 estimator.py:1148] Calling model_fn.\n",
            "INFO:tensorflow:depth of additional conv before box predictor: 0\n",
            "I0325 16:00:27.514255 139746967033728 convolutional_box_predictor.py:156] depth of additional conv before box predictor: 0\n",
            "INFO:tensorflow:depth of additional conv before box predictor: 0\n",
            "I0325 16:00:27.575839 139746967033728 convolutional_box_predictor.py:156] depth of additional conv before box predictor: 0\n",
            "INFO:tensorflow:depth of additional conv before box predictor: 0\n",
            "I0325 16:00:27.619787 139746967033728 convolutional_box_predictor.py:156] depth of additional conv before box predictor: 0\n",
            "INFO:tensorflow:depth of additional conv before box predictor: 0\n",
            "I0325 16:00:27.659718 139746967033728 convolutional_box_predictor.py:156] depth of additional conv before box predictor: 0\n",
            "INFO:tensorflow:depth of additional conv before box predictor: 0\n",
            "I0325 16:00:27.698347 139746967033728 convolutional_box_predictor.py:156] depth of additional conv before box predictor: 0\n",
            "INFO:tensorflow:depth of additional conv before box predictor: 0\n",
            "I0325 16:00:27.737374 139746967033728 convolutional_box_predictor.py:156] depth of additional conv before box predictor: 0\n",
            "INFO:tensorflow:Done calling model_fn.\n",
            "I0325 16:00:31.132851 139746967033728 estimator.py:1150] Done calling model_fn.\n",
            "INFO:tensorflow:Starting evaluation at 2022-03-25T16:00:31Z\n",
            "I0325 16:00:31.155411 139746967033728 evaluation.py:255] Starting evaluation at 2022-03-25T16:00:31Z\n",
            "INFO:tensorflow:Graph was finalized.\n",
            "I0325 16:00:31.746489 139746967033728 monitored_session.py:240] Graph was finalized.\n",
            "2022-03-25 16:00:31.747502: I tensorflow/stream_executor/cuda/cuda_gpu_executor.cc:983] successful NUMA node read from SysFS had negative value (-1), but there must be at least one NUMA node, so returning NUMA node zero\n",
            "2022-03-25 16:00:31.748155: I tensorflow/core/common_runtime/gpu/gpu_device.cc:1639] Found device 0 with properties: \n",
            "name: Tesla K80 major: 3 minor: 7 memoryClockRate(GHz): 0.8235\n",
            "pciBusID: 0000:00:04.0\n",
            "2022-03-25 16:00:31.748259: I tensorflow/stream_executor/platform/default/dso_loader.cc:44] Successfully opened dynamic library libcudart.so.10.1\n",
            "2022-03-25 16:00:31.748313: I tensorflow/stream_executor/platform/default/dso_loader.cc:44] Successfully opened dynamic library libcublas.so.10\n",
            "2022-03-25 16:00:31.748380: I tensorflow/stream_executor/platform/default/dso_loader.cc:44] Successfully opened dynamic library libcufft.so.10\n",
            "2022-03-25 16:00:31.748438: I tensorflow/stream_executor/platform/default/dso_loader.cc:44] Successfully opened dynamic library libcurand.so.10\n",
            "2022-03-25 16:00:31.748490: I tensorflow/stream_executor/platform/default/dso_loader.cc:44] Successfully opened dynamic library libcusolver.so.10\n",
            "2022-03-25 16:00:31.748538: I tensorflow/stream_executor/platform/default/dso_loader.cc:44] Successfully opened dynamic library libcusparse.so.10\n",
            "2022-03-25 16:00:31.748587: I tensorflow/stream_executor/platform/default/dso_loader.cc:44] Successfully opened dynamic library libcudnn.so.7\n",
            "2022-03-25 16:00:31.748704: I tensorflow/stream_executor/cuda/cuda_gpu_executor.cc:983] successful NUMA node read from SysFS had negative value (-1), but there must be at least one NUMA node, so returning NUMA node zero\n",
            "2022-03-25 16:00:31.749362: I tensorflow/stream_executor/cuda/cuda_gpu_executor.cc:983] successful NUMA node read from SysFS had negative value (-1), but there must be at least one NUMA node, so returning NUMA node zero\n",
            "2022-03-25 16:00:31.749948: I tensorflow/core/common_runtime/gpu/gpu_device.cc:1767] Adding visible gpu devices: 0\n",
            "2022-03-25 16:00:31.750013: I tensorflow/core/common_runtime/gpu/gpu_device.cc:1180] Device interconnect StreamExecutor with strength 1 edge matrix:\n",
            "2022-03-25 16:00:31.750042: I tensorflow/core/common_runtime/gpu/gpu_device.cc:1186]      0 \n",
            "2022-03-25 16:00:31.750063: I tensorflow/core/common_runtime/gpu/gpu_device.cc:1199] 0:   N \n",
            "2022-03-25 16:00:31.750204: I tensorflow/stream_executor/cuda/cuda_gpu_executor.cc:983] successful NUMA node read from SysFS had negative value (-1), but there must be at least one NUMA node, so returning NUMA node zero\n",
            "2022-03-25 16:00:31.750845: I tensorflow/stream_executor/cuda/cuda_gpu_executor.cc:983] successful NUMA node read from SysFS had negative value (-1), but there must be at least one NUMA node, so returning NUMA node zero\n",
            "2022-03-25 16:00:31.751460: I tensorflow/core/common_runtime/gpu/gpu_device.cc:1325] Created TensorFlow device (/job:localhost/replica:0/task:0/device:GPU:0 with 10813 MB memory) -> physical GPU (device: 0, name: Tesla K80, pci bus id: 0000:00:04.0, compute capability: 3.7)\n",
            "INFO:tensorflow:Restoring parameters from training/model.ckpt-50068\n",
            "I0325 16:00:31.754568 139746967033728 saver.py:1284] Restoring parameters from training/model.ckpt-50068\n",
            "INFO:tensorflow:Running local_init_op.\n",
            "I0325 16:00:32.940394 139746967033728 session_manager.py:500] Running local_init_op.\n",
            "INFO:tensorflow:Done running local_init_op.\n",
            "I0325 16:00:33.101201 139746967033728 session_manager.py:502] Done running local_init_op.\n",
            "INFO:tensorflow:Performing evaluation on 72 images.\n",
            "I0325 16:00:40.072736 139744874792704 coco_evaluation.py:237] Performing evaluation on 72 images.\n",
            "creating index...\n",
            "index created!\n",
            "INFO:tensorflow:Loading and preparing annotation results...\n",
            "I0325 16:00:40.073436 139744874792704 coco_tools.py:116] Loading and preparing annotation results...\n",
            "INFO:tensorflow:DONE (t=0.01s)\n",
            "I0325 16:00:40.079079 139744874792704 coco_tools.py:138] DONE (t=0.01s)\n",
            "creating index...\n",
            "index created!\n",
            "Running per image evaluation...\n",
            "Evaluate annotation type *bbox*\n",
            "DONE (t=0.90s).\n",
            "Accumulating evaluation results...\n",
            "DONE (t=0.26s).\n",
            " Average Precision  (AP) @[ IoU=0.50:0.95 | area=   all | maxDets=100 ] = 0.686\n",
            " Average Precision  (AP) @[ IoU=0.50      | area=   all | maxDets=100 ] = 0.931\n",
            " Average Precision  (AP) @[ IoU=0.75      | area=   all | maxDets=100 ] = 0.874\n",
            " Average Precision  (AP) @[ IoU=0.50:0.95 | area= small | maxDets=100 ] = -1.000\n",
            " Average Precision  (AP) @[ IoU=0.50:0.95 | area=medium | maxDets=100 ] = -1.000\n",
            " Average Precision  (AP) @[ IoU=0.50:0.95 | area= large | maxDets=100 ] = 0.686\n",
            " Average Recall     (AR) @[ IoU=0.50:0.95 | area=   all | maxDets=  1 ] = 0.754\n",
            " Average Recall     (AR) @[ IoU=0.50:0.95 | area=   all | maxDets= 10 ] = 0.754\n",
            " Average Recall     (AR) @[ IoU=0.50:0.95 | area=   all | maxDets=100 ] = 0.754\n",
            " Average Recall     (AR) @[ IoU=0.50:0.95 | area= small | maxDets=100 ] = -1.000\n",
            " Average Recall     (AR) @[ IoU=0.50:0.95 | area=medium | maxDets=100 ] = -1.000\n",
            " Average Recall     (AR) @[ IoU=0.50:0.95 | area= large | maxDets=100 ] = 0.754\n",
            "INFO:tensorflow:Finished evaluation at 2022-03-25-16:00:41\n",
            "I0325 16:00:41.365660 139746967033728 evaluation.py:275] Finished evaluation at 2022-03-25-16:00:41\n",
            "INFO:tensorflow:Saving dict for global step 50068: DetectionBoxes_Precision/mAP = 0.6864394, DetectionBoxes_Precision/mAP (large) = 0.6864394, DetectionBoxes_Precision/mAP (medium) = -1.0, DetectionBoxes_Precision/mAP (small) = -1.0, DetectionBoxes_Precision/mAP@.50IOU = 0.93054116, DetectionBoxes_Precision/mAP@.75IOU = 0.8736969, DetectionBoxes_Recall/AR@1 = 0.75381947, DetectionBoxes_Recall/AR@10 = 0.75381947, DetectionBoxes_Recall/AR@100 = 0.75381947, DetectionBoxes_Recall/AR@100 (large) = 0.75381947, DetectionBoxes_Recall/AR@100 (medium) = -1.0, DetectionBoxes_Recall/AR@100 (small) = -1.0, Loss/classification_loss = 0.35318726, Loss/localization_loss = 0.019621478, Loss/regularization_loss = 0.22720927, Loss/total_loss = 0.6000182, global_step = 50068, learning_rate = 0.004, loss = 0.6000182\n",
            "I0325 16:00:41.366026 139746967033728 estimator.py:2049] Saving dict for global step 50068: DetectionBoxes_Precision/mAP = 0.6864394, DetectionBoxes_Precision/mAP (large) = 0.6864394, DetectionBoxes_Precision/mAP (medium) = -1.0, DetectionBoxes_Precision/mAP (small) = -1.0, DetectionBoxes_Precision/mAP@.50IOU = 0.93054116, DetectionBoxes_Precision/mAP@.75IOU = 0.8736969, DetectionBoxes_Recall/AR@1 = 0.75381947, DetectionBoxes_Recall/AR@10 = 0.75381947, DetectionBoxes_Recall/AR@100 = 0.75381947, DetectionBoxes_Recall/AR@100 (large) = 0.75381947, DetectionBoxes_Recall/AR@100 (medium) = -1.0, DetectionBoxes_Recall/AR@100 (small) = -1.0, Loss/classification_loss = 0.35318726, Loss/localization_loss = 0.019621478, Loss/regularization_loss = 0.22720927, Loss/total_loss = 0.6000182, global_step = 50068, learning_rate = 0.004, loss = 0.6000182\n",
            "INFO:tensorflow:Saving 'checkpoint_path' summary for global step 50068: training/model.ckpt-50068\n",
            "I0325 16:00:41.370774 139746967033728 estimator.py:2109] Saving 'checkpoint_path' summary for global step 50068: training/model.ckpt-50068\n",
            "INFO:tensorflow:global_step/sec: 1.11071\n",
            "I0325 16:00:53.502996 139746967033728 basic_session_run_hooks.py:692] global_step/sec: 1.11071\n",
            "INFO:tensorflow:loss = 0.42403692, step = 50084 (90.032 sec)\n",
            "I0325 16:00:53.504281 139746967033728 basic_session_run_hooks.py:260] loss = 0.42403692, step = 50084 (90.032 sec)\n",
            "INFO:tensorflow:global_step/sec: 1.44281\n",
            "I0325 16:02:02.812023 139746967033728 basic_session_run_hooks.py:692] global_step/sec: 1.44281\n",
            "INFO:tensorflow:loss = 0.5611219, step = 50184 (69.310 sec)\n",
            "I0325 16:02:02.814247 139746967033728 basic_session_run_hooks.py:260] loss = 0.5611219, step = 50184 (69.310 sec)\n",
            "INFO:tensorflow:global_step/sec: 1.40774\n",
            "I0325 16:03:13.847756 139746967033728 basic_session_run_hooks.py:692] global_step/sec: 1.40774\n",
            "INFO:tensorflow:loss = 0.42735228, step = 50284 (71.035 sec)\n",
            "I0325 16:03:13.849243 139746967033728 basic_session_run_hooks.py:260] loss = 0.42735228, step = 50284 (71.035 sec)\n",
            "INFO:tensorflow:global_step/sec: 1.4253\n",
            "I0325 16:04:24.008529 139746967033728 basic_session_run_hooks.py:692] global_step/sec: 1.4253\n",
            "INFO:tensorflow:loss = 0.44364333, step = 50384 (70.162 sec)\n",
            "I0325 16:04:24.010773 139746967033728 basic_session_run_hooks.py:260] loss = 0.44364333, step = 50384 (70.162 sec)\n",
            "INFO:tensorflow:global_step/sec: 1.43754\n",
            "I0325 16:05:33.571787 139746967033728 basic_session_run_hooks.py:692] global_step/sec: 1.43754\n",
            "INFO:tensorflow:loss = 0.45980936, step = 50484 (69.562 sec)\n",
            "I0325 16:05:33.573234 139746967033728 basic_session_run_hooks.py:260] loss = 0.45980936, step = 50484 (69.562 sec)\n",
            "INFO:tensorflow:global_step/sec: 1.43404\n",
            "I0325 16:06:43.304805 139746967033728 basic_session_run_hooks.py:692] global_step/sec: 1.43404\n",
            "INFO:tensorflow:loss = 0.447834, step = 50584 (69.733 sec)\n",
            "I0325 16:06:43.306687 139746967033728 basic_session_run_hooks.py:260] loss = 0.447834, step = 50584 (69.733 sec)\n",
            "INFO:tensorflow:global_step/sec: 1.43362\n",
            "I0325 16:07:53.058361 139746967033728 basic_session_run_hooks.py:692] global_step/sec: 1.43362\n",
            "INFO:tensorflow:loss = 0.41854683, step = 50684 (69.753 sec)\n",
            "I0325 16:07:53.059751 139746967033728 basic_session_run_hooks.py:260] loss = 0.41854683, step = 50684 (69.753 sec)\n",
            "INFO:tensorflow:global_step/sec: 1.43258\n",
            "I0325 16:09:02.862337 139746967033728 basic_session_run_hooks.py:692] global_step/sec: 1.43258\n",
            "INFO:tensorflow:loss = 0.41434234, step = 50784 (69.804 sec)\n",
            "I0325 16:09:02.864179 139746967033728 basic_session_run_hooks.py:260] loss = 0.41434234, step = 50784 (69.804 sec)\n",
            "INFO:tensorflow:global_step/sec: 1.43393\n",
            "I0325 16:10:12.600818 139746967033728 basic_session_run_hooks.py:692] global_step/sec: 1.43393\n",
            "INFO:tensorflow:loss = 0.45512176, step = 50884 (69.738 sec)\n",
            "I0325 16:10:12.602167 139746967033728 basic_session_run_hooks.py:260] loss = 0.45512176, step = 50884 (69.738 sec)\n",
            "INFO:tensorflow:Saving checkpoints for 50898 into training/model.ckpt.\n",
            "I0325 16:10:21.761673 139746967033728 basic_session_run_hooks.py:606] Saving checkpoints for 50898 into training/model.ckpt.\n",
            "WARNING:tensorflow:Entity <bound method TfExampleDecoder.decode of <object_detection.data_decoders.tf_example_decoder.TfExampleDecoder object at 0x7f188c9213d0>> could not be transformed and will be executed as-is. Please report this to the AutoGraph team. When filing the bug, set the verbosity to 10 (on Linux, `export AUTOGRAPH_VERBOSITY=10`) and attach the full output. Cause: module 'gast' has no attribute 'Index'\n",
            "W0325 16:10:24.003412 139746967033728 ag_logging.py:146] Entity <bound method TfExampleDecoder.decode of <object_detection.data_decoders.tf_example_decoder.TfExampleDecoder object at 0x7f188c9213d0>> could not be transformed and will be executed as-is. Please report this to the AutoGraph team. When filing the bug, set the verbosity to 10 (on Linux, `export AUTOGRAPH_VERBOSITY=10`) and attach the full output. Cause: module 'gast' has no attribute 'Index'\n",
            "WARNING:tensorflow:Entity <function eval_input.<locals>.transform_and_pad_input_data_fn at 0x7f188cfbb560> could not be transformed and will be executed as-is. Please report this to the AutoGraph team. When filing the bug, set the verbosity to 10 (on Linux, `export AUTOGRAPH_VERBOSITY=10`) and attach the full output. Cause: module 'gast' has no attribute 'Str'\n",
            "W0325 16:10:24.266448 139746967033728 ag_logging.py:146] Entity <function eval_input.<locals>.transform_and_pad_input_data_fn at 0x7f188cfbb560> could not be transformed and will be executed as-is. Please report this to the AutoGraph team. When filing the bug, set the verbosity to 10 (on Linux, `export AUTOGRAPH_VERBOSITY=10`) and attach the full output. Cause: module 'gast' has no attribute 'Str'\n",
            "INFO:tensorflow:Calling model_fn.\n",
            "I0325 16:10:24.940202 139746967033728 estimator.py:1148] Calling model_fn.\n",
            "INFO:tensorflow:depth of additional conv before box predictor: 0\n",
            "I0325 16:10:27.778039 139746967033728 convolutional_box_predictor.py:156] depth of additional conv before box predictor: 0\n",
            "INFO:tensorflow:depth of additional conv before box predictor: 0\n",
            "I0325 16:10:27.820535 139746967033728 convolutional_box_predictor.py:156] depth of additional conv before box predictor: 0\n",
            "INFO:tensorflow:depth of additional conv before box predictor: 0\n",
            "I0325 16:10:27.861382 139746967033728 convolutional_box_predictor.py:156] depth of additional conv before box predictor: 0\n",
            "INFO:tensorflow:depth of additional conv before box predictor: 0\n",
            "I0325 16:10:27.902090 139746967033728 convolutional_box_predictor.py:156] depth of additional conv before box predictor: 0\n",
            "INFO:tensorflow:depth of additional conv before box predictor: 0\n",
            "I0325 16:10:27.943350 139746967033728 convolutional_box_predictor.py:156] depth of additional conv before box predictor: 0\n",
            "INFO:tensorflow:depth of additional conv before box predictor: 0\n",
            "I0325 16:10:27.984520 139746967033728 convolutional_box_predictor.py:156] depth of additional conv before box predictor: 0\n",
            "INFO:tensorflow:Done calling model_fn.\n",
            "I0325 16:10:31.783563 139746967033728 estimator.py:1150] Done calling model_fn.\n",
            "INFO:tensorflow:Starting evaluation at 2022-03-25T16:10:31Z\n",
            "I0325 16:10:31.805421 139746967033728 evaluation.py:255] Starting evaluation at 2022-03-25T16:10:31Z\n",
            "INFO:tensorflow:Graph was finalized.\n",
            "I0325 16:10:32.373967 139746967033728 monitored_session.py:240] Graph was finalized.\n",
            "2022-03-25 16:10:32.374840: I tensorflow/stream_executor/cuda/cuda_gpu_executor.cc:983] successful NUMA node read from SysFS had negative value (-1), but there must be at least one NUMA node, so returning NUMA node zero\n",
            "2022-03-25 16:10:32.375485: I tensorflow/core/common_runtime/gpu/gpu_device.cc:1639] Found device 0 with properties: \n",
            "name: Tesla K80 major: 3 minor: 7 memoryClockRate(GHz): 0.8235\n",
            "pciBusID: 0000:00:04.0\n",
            "2022-03-25 16:10:32.375649: I tensorflow/stream_executor/platform/default/dso_loader.cc:44] Successfully opened dynamic library libcudart.so.10.1\n",
            "2022-03-25 16:10:32.375710: I tensorflow/stream_executor/platform/default/dso_loader.cc:44] Successfully opened dynamic library libcublas.so.10\n",
            "2022-03-25 16:10:32.375771: I tensorflow/stream_executor/platform/default/dso_loader.cc:44] Successfully opened dynamic library libcufft.so.10\n",
            "2022-03-25 16:10:32.375867: I tensorflow/stream_executor/platform/default/dso_loader.cc:44] Successfully opened dynamic library libcurand.so.10\n",
            "2022-03-25 16:10:32.375935: I tensorflow/stream_executor/platform/default/dso_loader.cc:44] Successfully opened dynamic library libcusolver.so.10\n",
            "2022-03-25 16:10:32.375993: I tensorflow/stream_executor/platform/default/dso_loader.cc:44] Successfully opened dynamic library libcusparse.so.10\n",
            "2022-03-25 16:10:32.376047: I tensorflow/stream_executor/platform/default/dso_loader.cc:44] Successfully opened dynamic library libcudnn.so.7\n",
            "2022-03-25 16:10:32.376155: I tensorflow/stream_executor/cuda/cuda_gpu_executor.cc:983] successful NUMA node read from SysFS had negative value (-1), but there must be at least one NUMA node, so returning NUMA node zero\n",
            "2022-03-25 16:10:32.376963: I tensorflow/stream_executor/cuda/cuda_gpu_executor.cc:983] successful NUMA node read from SysFS had negative value (-1), but there must be at least one NUMA node, so returning NUMA node zero\n",
            "2022-03-25 16:10:32.377642: I tensorflow/core/common_runtime/gpu/gpu_device.cc:1767] Adding visible gpu devices: 0\n",
            "2022-03-25 16:10:32.377752: I tensorflow/core/common_runtime/gpu/gpu_device.cc:1180] Device interconnect StreamExecutor with strength 1 edge matrix:\n",
            "2022-03-25 16:10:32.377783: I tensorflow/core/common_runtime/gpu/gpu_device.cc:1186]      0 \n",
            "2022-03-25 16:10:32.377821: I tensorflow/core/common_runtime/gpu/gpu_device.cc:1199] 0:   N \n",
            "2022-03-25 16:10:32.378028: I tensorflow/stream_executor/cuda/cuda_gpu_executor.cc:983] successful NUMA node read from SysFS had negative value (-1), but there must be at least one NUMA node, so returning NUMA node zero\n",
            "2022-03-25 16:10:32.378661: I tensorflow/stream_executor/cuda/cuda_gpu_executor.cc:983] successful NUMA node read from SysFS had negative value (-1), but there must be at least one NUMA node, so returning NUMA node zero\n",
            "2022-03-25 16:10:32.379244: I tensorflow/core/common_runtime/gpu/gpu_device.cc:1325] Created TensorFlow device (/job:localhost/replica:0/task:0/device:GPU:0 with 10813 MB memory) -> physical GPU (device: 0, name: Tesla K80, pci bus id: 0000:00:04.0, compute capability: 3.7)\n",
            "INFO:tensorflow:Restoring parameters from training/model.ckpt-50898\n",
            "I0325 16:10:32.382060 139746967033728 saver.py:1284] Restoring parameters from training/model.ckpt-50898\n",
            "INFO:tensorflow:Running local_init_op.\n",
            "I0325 16:10:33.574813 139746967033728 session_manager.py:500] Running local_init_op.\n",
            "INFO:tensorflow:Done running local_init_op.\n",
            "I0325 16:10:33.749923 139746967033728 session_manager.py:502] Done running local_init_op.\n",
            "INFO:tensorflow:Performing evaluation on 72 images.\n",
            "I0325 16:10:40.969721 139744883185408 coco_evaluation.py:237] Performing evaluation on 72 images.\n",
            "creating index...\n",
            "index created!\n",
            "INFO:tensorflow:Loading and preparing annotation results...\n",
            "I0325 16:10:40.970487 139744883185408 coco_tools.py:116] Loading and preparing annotation results...\n",
            "INFO:tensorflow:DONE (t=0.01s)\n",
            "I0325 16:10:40.977066 139744883185408 coco_tools.py:138] DONE (t=0.01s)\n",
            "creating index...\n",
            "index created!\n",
            "Running per image evaluation...\n",
            "Evaluate annotation type *bbox*\n",
            "DONE (t=0.88s).\n",
            "Accumulating evaluation results...\n",
            "DONE (t=0.26s).\n",
            " Average Precision  (AP) @[ IoU=0.50:0.95 | area=   all | maxDets=100 ] = 0.685\n",
            " Average Precision  (AP) @[ IoU=0.50      | area=   all | maxDets=100 ] = 0.951\n",
            " Average Precision  (AP) @[ IoU=0.75      | area=   all | maxDets=100 ] = 0.867\n",
            " Average Precision  (AP) @[ IoU=0.50:0.95 | area= small | maxDets=100 ] = -1.000\n",
            " Average Precision  (AP) @[ IoU=0.50:0.95 | area=medium | maxDets=100 ] = -1.000\n",
            " Average Precision  (AP) @[ IoU=0.50:0.95 | area= large | maxDets=100 ] = 0.685\n",
            " Average Recall     (AR) @[ IoU=0.50:0.95 | area=   all | maxDets=  1 ] = 0.732\n",
            " Average Recall     (AR) @[ IoU=0.50:0.95 | area=   all | maxDets= 10 ] = 0.732\n",
            " Average Recall     (AR) @[ IoU=0.50:0.95 | area=   all | maxDets=100 ] = 0.732\n",
            " Average Recall     (AR) @[ IoU=0.50:0.95 | area= small | maxDets=100 ] = -1.000\n",
            " Average Recall     (AR) @[ IoU=0.50:0.95 | area=medium | maxDets=100 ] = -1.000\n",
            " Average Recall     (AR) @[ IoU=0.50:0.95 | area= large | maxDets=100 ] = 0.732\n",
            "INFO:tensorflow:Finished evaluation at 2022-03-25-16:10:42\n",
            "I0325 16:10:42.239459 139746967033728 evaluation.py:275] Finished evaluation at 2022-03-25-16:10:42\n",
            "INFO:tensorflow:Saving dict for global step 50898: DetectionBoxes_Precision/mAP = 0.68464905, DetectionBoxes_Precision/mAP (large) = 0.68465024, DetectionBoxes_Precision/mAP (medium) = -1.0, DetectionBoxes_Precision/mAP (small) = -1.0, DetectionBoxes_Precision/mAP@.50IOU = 0.9506218, DetectionBoxes_Precision/mAP@.75IOU = 0.86748093, DetectionBoxes_Recall/AR@1 = 0.73180556, DetectionBoxes_Recall/AR@10 = 0.73180556, DetectionBoxes_Recall/AR@100 = 0.73180556, DetectionBoxes_Recall/AR@100 (large) = 0.73180556, DetectionBoxes_Recall/AR@100 (medium) = -1.0, DetectionBoxes_Recall/AR@100 (small) = -1.0, Loss/classification_loss = 0.3807101, Loss/localization_loss = 0.027872525, Loss/regularization_loss = 0.22670749, Loss/total_loss = 0.63528997, global_step = 50898, learning_rate = 0.004, loss = 0.63528997\n",
            "I0325 16:10:42.239847 139746967033728 estimator.py:2049] Saving dict for global step 50898: DetectionBoxes_Precision/mAP = 0.68464905, DetectionBoxes_Precision/mAP (large) = 0.68465024, DetectionBoxes_Precision/mAP (medium) = -1.0, DetectionBoxes_Precision/mAP (small) = -1.0, DetectionBoxes_Precision/mAP@.50IOU = 0.9506218, DetectionBoxes_Precision/mAP@.75IOU = 0.86748093, DetectionBoxes_Recall/AR@1 = 0.73180556, DetectionBoxes_Recall/AR@10 = 0.73180556, DetectionBoxes_Recall/AR@100 = 0.73180556, DetectionBoxes_Recall/AR@100 (large) = 0.73180556, DetectionBoxes_Recall/AR@100 (medium) = -1.0, DetectionBoxes_Recall/AR@100 (small) = -1.0, Loss/classification_loss = 0.3807101, Loss/localization_loss = 0.027872525, Loss/regularization_loss = 0.22670749, Loss/total_loss = 0.63528997, global_step = 50898, learning_rate = 0.004, loss = 0.63528997\n",
            "INFO:tensorflow:Saving 'checkpoint_path' summary for global step 50898: training/model.ckpt-50898\n",
            "I0325 16:10:42.244906 139746967033728 estimator.py:2109] Saving 'checkpoint_path' summary for global step 50898: training/model.ckpt-50898\n",
            "INFO:tensorflow:global_step/sec: 1.10229\n",
            "I0325 16:11:43.321035 139746967033728 basic_session_run_hooks.py:692] global_step/sec: 1.10229\n",
            "INFO:tensorflow:loss = 0.44443828, step = 50984 (90.721 sec)\n",
            "I0325 16:11:43.323135 139746967033728 basic_session_run_hooks.py:260] loss = 0.44443828, step = 50984 (90.721 sec)\n",
            "INFO:tensorflow:global_step/sec: 1.43629\n",
            "I0325 16:12:52.944661 139746967033728 basic_session_run_hooks.py:692] global_step/sec: 1.43629\n",
            "INFO:tensorflow:loss = 0.4686462, step = 51084 (69.623 sec)\n",
            "I0325 16:12:52.945972 139746967033728 basic_session_run_hooks.py:260] loss = 0.4686462, step = 51084 (69.623 sec)\n",
            "INFO:tensorflow:global_step/sec: 1.42588\n",
            "I0325 16:14:03.076695 139746967033728 basic_session_run_hooks.py:692] global_step/sec: 1.42588\n",
            "INFO:tensorflow:loss = 0.4210214, step = 51184 (70.133 sec)\n",
            "I0325 16:14:03.078493 139746967033728 basic_session_run_hooks.py:260] loss = 0.4210214, step = 51184 (70.133 sec)\n",
            "INFO:tensorflow:global_step/sec: 1.43574\n",
            "I0325 16:15:12.727194 139746967033728 basic_session_run_hooks.py:692] global_step/sec: 1.43574\n",
            "INFO:tensorflow:loss = 0.43690726, step = 51284 (69.650 sec)\n",
            "I0325 16:15:12.728508 139746967033728 basic_session_run_hooks.py:260] loss = 0.43690726, step = 51284 (69.650 sec)\n",
            "INFO:tensorflow:global_step/sec: 1.43043\n",
            "I0325 16:16:22.636019 139746967033728 basic_session_run_hooks.py:692] global_step/sec: 1.43043\n",
            "INFO:tensorflow:loss = 0.5492939, step = 51384 (69.910 sec)\n",
            "I0325 16:16:22.638025 139746967033728 basic_session_run_hooks.py:260] loss = 0.5492939, step = 51384 (69.910 sec)\n",
            "INFO:tensorflow:global_step/sec: 1.42651\n",
            "I0325 16:17:32.737010 139746967033728 basic_session_run_hooks.py:692] global_step/sec: 1.42651\n",
            "INFO:tensorflow:loss = 0.40260237, step = 51484 (70.100 sec)\n",
            "I0325 16:17:32.738289 139746967033728 basic_session_run_hooks.py:260] loss = 0.40260237, step = 51484 (70.100 sec)\n",
            "INFO:tensorflow:global_step/sec: 1.43368\n",
            "I0325 16:18:42.487783 139746967033728 basic_session_run_hooks.py:692] global_step/sec: 1.43368\n",
            "INFO:tensorflow:loss = 0.49645266, step = 51584 (69.751 sec)\n",
            "I0325 16:18:42.489680 139746967033728 basic_session_run_hooks.py:260] loss = 0.49645266, step = 51584 (69.751 sec)\n",
            "INFO:tensorflow:global_step/sec: 1.4349\n",
            "I0325 16:19:52.179152 139746967033728 basic_session_run_hooks.py:692] global_step/sec: 1.4349\n",
            "INFO:tensorflow:loss = 0.43245804, step = 51684 (69.691 sec)\n",
            "I0325 16:19:52.180511 139746967033728 basic_session_run_hooks.py:260] loss = 0.43245804, step = 51684 (69.691 sec)\n",
            "INFO:tensorflow:Saving checkpoints for 51728 into training/model.ckpt.\n",
            "I0325 16:20:22.126996 139746967033728 basic_session_run_hooks.py:606] Saving checkpoints for 51728 into training/model.ckpt.\n",
            "WARNING:tensorflow:Entity <bound method TfExampleDecoder.decode of <object_detection.data_decoders.tf_example_decoder.TfExampleDecoder object at 0x7f18e316a510>> could not be transformed and will be executed as-is. Please report this to the AutoGraph team. When filing the bug, set the verbosity to 10 (on Linux, `export AUTOGRAPH_VERBOSITY=10`) and attach the full output. Cause: module 'gast' has no attribute 'Index'\n",
            "W0325 16:20:24.438562 139746967033728 ag_logging.py:146] Entity <bound method TfExampleDecoder.decode of <object_detection.data_decoders.tf_example_decoder.TfExampleDecoder object at 0x7f18e316a510>> could not be transformed and will be executed as-is. Please report this to the AutoGraph team. When filing the bug, set the verbosity to 10 (on Linux, `export AUTOGRAPH_VERBOSITY=10`) and attach the full output. Cause: module 'gast' has no attribute 'Index'\n",
            "WARNING:tensorflow:Entity <function eval_input.<locals>.transform_and_pad_input_data_fn at 0x7f18e31645f0> could not be transformed and will be executed as-is. Please report this to the AutoGraph team. When filing the bug, set the verbosity to 10 (on Linux, `export AUTOGRAPH_VERBOSITY=10`) and attach the full output. Cause: module 'gast' has no attribute 'Str'\n",
            "W0325 16:20:24.684701 139746967033728 ag_logging.py:146] Entity <function eval_input.<locals>.transform_and_pad_input_data_fn at 0x7f18e31645f0> could not be transformed and will be executed as-is. Please report this to the AutoGraph team. When filing the bug, set the verbosity to 10 (on Linux, `export AUTOGRAPH_VERBOSITY=10`) and attach the full output. Cause: module 'gast' has no attribute 'Str'\n",
            "INFO:tensorflow:Calling model_fn.\n",
            "I0325 16:20:25.372103 139746967033728 estimator.py:1148] Calling model_fn.\n",
            "INFO:tensorflow:depth of additional conv before box predictor: 0\n",
            "I0325 16:20:28.165091 139746967033728 convolutional_box_predictor.py:156] depth of additional conv before box predictor: 0\n",
            "INFO:tensorflow:depth of additional conv before box predictor: 0\n",
            "I0325 16:20:28.204732 139746967033728 convolutional_box_predictor.py:156] depth of additional conv before box predictor: 0\n",
            "INFO:tensorflow:depth of additional conv before box predictor: 0\n",
            "I0325 16:20:28.244592 139746967033728 convolutional_box_predictor.py:156] depth of additional conv before box predictor: 0\n",
            "INFO:tensorflow:depth of additional conv before box predictor: 0\n",
            "I0325 16:20:28.284837 139746967033728 convolutional_box_predictor.py:156] depth of additional conv before box predictor: 0\n",
            "INFO:tensorflow:depth of additional conv before box predictor: 0\n",
            "I0325 16:20:28.324201 139746967033728 convolutional_box_predictor.py:156] depth of additional conv before box predictor: 0\n",
            "INFO:tensorflow:depth of additional conv before box predictor: 0\n",
            "I0325 16:20:28.363528 139746967033728 convolutional_box_predictor.py:156] depth of additional conv before box predictor: 0\n",
            "INFO:tensorflow:Done calling model_fn.\n",
            "I0325 16:20:32.112256 139746967033728 estimator.py:1150] Done calling model_fn.\n",
            "INFO:tensorflow:Starting evaluation at 2022-03-25T16:20:32Z\n",
            "I0325 16:20:32.134638 139746967033728 evaluation.py:255] Starting evaluation at 2022-03-25T16:20:32Z\n",
            "INFO:tensorflow:Graph was finalized.\n",
            "I0325 16:20:32.715139 139746967033728 monitored_session.py:240] Graph was finalized.\n",
            "2022-03-25 16:20:32.716191: I tensorflow/stream_executor/cuda/cuda_gpu_executor.cc:983] successful NUMA node read from SysFS had negative value (-1), but there must be at least one NUMA node, so returning NUMA node zero\n",
            "2022-03-25 16:20:32.716879: I tensorflow/core/common_runtime/gpu/gpu_device.cc:1639] Found device 0 with properties: \n",
            "name: Tesla K80 major: 3 minor: 7 memoryClockRate(GHz): 0.8235\n",
            "pciBusID: 0000:00:04.0\n",
            "2022-03-25 16:20:32.716993: I tensorflow/stream_executor/platform/default/dso_loader.cc:44] Successfully opened dynamic library libcudart.so.10.1\n",
            "2022-03-25 16:20:32.717056: I tensorflow/stream_executor/platform/default/dso_loader.cc:44] Successfully opened dynamic library libcublas.so.10\n",
            "2022-03-25 16:20:32.717107: I tensorflow/stream_executor/platform/default/dso_loader.cc:44] Successfully opened dynamic library libcufft.so.10\n",
            "2022-03-25 16:20:32.717160: I tensorflow/stream_executor/platform/default/dso_loader.cc:44] Successfully opened dynamic library libcurand.so.10\n",
            "2022-03-25 16:20:32.717222: I tensorflow/stream_executor/platform/default/dso_loader.cc:44] Successfully opened dynamic library libcusolver.so.10\n",
            "2022-03-25 16:20:32.717269: I tensorflow/stream_executor/platform/default/dso_loader.cc:44] Successfully opened dynamic library libcusparse.so.10\n",
            "2022-03-25 16:20:32.717315: I tensorflow/stream_executor/platform/default/dso_loader.cc:44] Successfully opened dynamic library libcudnn.so.7\n",
            "2022-03-25 16:20:32.717428: I tensorflow/stream_executor/cuda/cuda_gpu_executor.cc:983] successful NUMA node read from SysFS had negative value (-1), but there must be at least one NUMA node, so returning NUMA node zero\n",
            "2022-03-25 16:20:32.718087: I tensorflow/stream_executor/cuda/cuda_gpu_executor.cc:983] successful NUMA node read from SysFS had negative value (-1), but there must be at least one NUMA node, so returning NUMA node zero\n",
            "2022-03-25 16:20:32.718677: I tensorflow/core/common_runtime/gpu/gpu_device.cc:1767] Adding visible gpu devices: 0\n",
            "2022-03-25 16:20:32.718739: I tensorflow/core/common_runtime/gpu/gpu_device.cc:1180] Device interconnect StreamExecutor with strength 1 edge matrix:\n",
            "2022-03-25 16:20:32.718772: I tensorflow/core/common_runtime/gpu/gpu_device.cc:1186]      0 \n",
            "2022-03-25 16:20:32.718813: I tensorflow/core/common_runtime/gpu/gpu_device.cc:1199] 0:   N \n",
            "2022-03-25 16:20:32.718964: I tensorflow/stream_executor/cuda/cuda_gpu_executor.cc:983] successful NUMA node read from SysFS had negative value (-1), but there must be at least one NUMA node, so returning NUMA node zero\n",
            "2022-03-25 16:20:32.719604: I tensorflow/stream_executor/cuda/cuda_gpu_executor.cc:983] successful NUMA node read from SysFS had negative value (-1), but there must be at least one NUMA node, so returning NUMA node zero\n",
            "2022-03-25 16:20:32.720261: I tensorflow/core/common_runtime/gpu/gpu_device.cc:1325] Created TensorFlow device (/job:localhost/replica:0/task:0/device:GPU:0 with 10813 MB memory) -> physical GPU (device: 0, name: Tesla K80, pci bus id: 0000:00:04.0, compute capability: 3.7)\n",
            "INFO:tensorflow:Restoring parameters from training/model.ckpt-51728\n",
            "I0325 16:20:32.723533 139746967033728 saver.py:1284] Restoring parameters from training/model.ckpt-51728\n",
            "INFO:tensorflow:Running local_init_op.\n",
            "I0325 16:20:33.918699 139746967033728 session_manager.py:500] Running local_init_op.\n",
            "INFO:tensorflow:Done running local_init_op.\n",
            "I0325 16:20:34.089381 139746967033728 session_manager.py:502] Done running local_init_op.\n",
            "INFO:tensorflow:Performing evaluation on 72 images.\n",
            "I0325 16:20:41.363415 139744883185408 coco_evaluation.py:237] Performing evaluation on 72 images.\n",
            "creating index...\n",
            "index created!\n",
            "INFO:tensorflow:Loading and preparing annotation results...\n",
            "I0325 16:20:41.364003 139744883185408 coco_tools.py:116] Loading and preparing annotation results...\n",
            "INFO:tensorflow:DONE (t=0.00s)\n",
            "I0325 16:20:41.368255 139744883185408 coco_tools.py:138] DONE (t=0.00s)\n",
            "creating index...\n",
            "index created!\n",
            "Running per image evaluation...\n",
            "Evaluate annotation type *bbox*\n",
            "DONE (t=0.84s).\n",
            "Accumulating evaluation results...\n",
            "DONE (t=0.25s).\n",
            " Average Precision  (AP) @[ IoU=0.50:0.95 | area=   all | maxDets=100 ] = 0.693\n",
            " Average Precision  (AP) @[ IoU=0.50      | area=   all | maxDets=100 ] = 0.933\n",
            " Average Precision  (AP) @[ IoU=0.75      | area=   all | maxDets=100 ] = 0.882\n",
            " Average Precision  (AP) @[ IoU=0.50:0.95 | area= small | maxDets=100 ] = -1.000\n",
            " Average Precision  (AP) @[ IoU=0.50:0.95 | area=medium | maxDets=100 ] = -1.000\n",
            " Average Precision  (AP) @[ IoU=0.50:0.95 | area= large | maxDets=100 ] = 0.693\n",
            " Average Recall     (AR) @[ IoU=0.50:0.95 | area=   all | maxDets=  1 ] = 0.761\n",
            " Average Recall     (AR) @[ IoU=0.50:0.95 | area=   all | maxDets= 10 ] = 0.761\n",
            " Average Recall     (AR) @[ IoU=0.50:0.95 | area=   all | maxDets=100 ] = 0.761\n",
            " Average Recall     (AR) @[ IoU=0.50:0.95 | area= small | maxDets=100 ] = -1.000\n",
            " Average Recall     (AR) @[ IoU=0.50:0.95 | area=medium | maxDets=100 ] = -1.000\n",
            " Average Recall     (AR) @[ IoU=0.50:0.95 | area= large | maxDets=100 ] = 0.761\n",
            "INFO:tensorflow:Finished evaluation at 2022-03-25-16:20:42\n",
            "I0325 16:20:42.578861 139746967033728 evaluation.py:275] Finished evaluation at 2022-03-25-16:20:42\n",
            "INFO:tensorflow:Saving dict for global step 51728: DetectionBoxes_Precision/mAP = 0.6934027, DetectionBoxes_Precision/mAP (large) = 0.6934027, DetectionBoxes_Precision/mAP (medium) = -1.0, DetectionBoxes_Precision/mAP (small) = -1.0, DetectionBoxes_Precision/mAP@.50IOU = 0.93321073, DetectionBoxes_Precision/mAP@.75IOU = 0.8821507, DetectionBoxes_Recall/AR@1 = 0.7613889, DetectionBoxes_Recall/AR@10 = 0.7613889, DetectionBoxes_Recall/AR@100 = 0.7613889, DetectionBoxes_Recall/AR@100 (large) = 0.7613889, DetectionBoxes_Recall/AR@100 (medium) = -1.0, DetectionBoxes_Recall/AR@100 (small) = -1.0, Loss/classification_loss = 0.38291895, Loss/localization_loss = 0.028439326, Loss/regularization_loss = 0.22620589, Loss/total_loss = 0.63756424, global_step = 51728, learning_rate = 0.004, loss = 0.63756424\n",
            "I0325 16:20:42.579374 139746967033728 estimator.py:2049] Saving dict for global step 51728: DetectionBoxes_Precision/mAP = 0.6934027, DetectionBoxes_Precision/mAP (large) = 0.6934027, DetectionBoxes_Precision/mAP (medium) = -1.0, DetectionBoxes_Precision/mAP (small) = -1.0, DetectionBoxes_Precision/mAP@.50IOU = 0.93321073, DetectionBoxes_Precision/mAP@.75IOU = 0.8821507, DetectionBoxes_Recall/AR@1 = 0.7613889, DetectionBoxes_Recall/AR@10 = 0.7613889, DetectionBoxes_Recall/AR@100 = 0.7613889, DetectionBoxes_Recall/AR@100 (large) = 0.7613889, DetectionBoxes_Recall/AR@100 (medium) = -1.0, DetectionBoxes_Recall/AR@100 (small) = -1.0, Loss/classification_loss = 0.38291895, Loss/localization_loss = 0.028439326, Loss/regularization_loss = 0.22620589, Loss/total_loss = 0.63756424, global_step = 51728, learning_rate = 0.004, loss = 0.63756424\n",
            "INFO:tensorflow:Saving 'checkpoint_path' summary for global step 51728: training/model.ckpt-51728\n",
            "I0325 16:20:42.584142 139746967033728 estimator.py:2109] Saving 'checkpoint_path' summary for global step 51728: training/model.ckpt-51728\n",
            "INFO:tensorflow:global_step/sec: 1.11186\n",
            "I0325 16:21:22.118402 139746967033728 basic_session_run_hooks.py:692] global_step/sec: 1.11186\n",
            "INFO:tensorflow:loss = 0.42035827, step = 51784 (89.940 sec)\n",
            "I0325 16:21:22.120569 139746967033728 basic_session_run_hooks.py:260] loss = 0.42035827, step = 51784 (89.940 sec)\n",
            "INFO:tensorflow:global_step/sec: 1.43323\n",
            "I0325 16:22:31.890849 139746967033728 basic_session_run_hooks.py:692] global_step/sec: 1.43323\n",
            "INFO:tensorflow:loss = 0.4490471, step = 51884 (69.771 sec)\n",
            "I0325 16:22:31.891885 139746967033728 basic_session_run_hooks.py:260] loss = 0.4490471, step = 51884 (69.771 sec)\n",
            "INFO:tensorflow:global_step/sec: 1.43617\n",
            "I0325 16:23:41.520654 139746967033728 basic_session_run_hooks.py:692] global_step/sec: 1.43617\n",
            "INFO:tensorflow:loss = 0.4436854, step = 51984 (69.631 sec)\n",
            "I0325 16:23:41.522779 139746967033728 basic_session_run_hooks.py:260] loss = 0.4436854, step = 51984 (69.631 sec)\n",
            "INFO:tensorflow:global_step/sec: 1.4301\n",
            "I0325 16:24:51.445914 139746967033728 basic_session_run_hooks.py:692] global_step/sec: 1.4301\n",
            "INFO:tensorflow:loss = 0.4364066, step = 52084 (69.924 sec)\n",
            "I0325 16:24:51.447231 139746967033728 basic_session_run_hooks.py:260] loss = 0.4364066, step = 52084 (69.924 sec)\n",
            "INFO:tensorflow:global_step/sec: 1.43448\n",
            "I0325 16:26:01.157732 139746967033728 basic_session_run_hooks.py:692] global_step/sec: 1.43448\n",
            "INFO:tensorflow:loss = 0.40120488, step = 52184 (69.713 sec)\n",
            "I0325 16:26:01.159845 139746967033728 basic_session_run_hooks.py:260] loss = 0.40120488, step = 52184 (69.713 sec)\n",
            "INFO:tensorflow:global_step/sec: 1.4289\n",
            "I0325 16:27:11.141393 139746967033728 basic_session_run_hooks.py:692] global_step/sec: 1.4289\n",
            "INFO:tensorflow:loss = 0.50402176, step = 52284 (69.983 sec)\n",
            "I0325 16:27:11.142958 139746967033728 basic_session_run_hooks.py:260] loss = 0.50402176, step = 52284 (69.983 sec)\n"
          ]
        }
      ]
    },
    {
      "cell_type": "code",
      "metadata": {
        "id": "KP-tUdtnRybs"
      },
      "source": [
        "#model dir check for the trained model\n",
        "!ls {model_dir}"
      ],
      "execution_count": null,
      "outputs": []
    },
    {
      "cell_type": "markdown",
      "source": [
        "## Export Trained Model"
      ],
      "metadata": {
        "id": "h5HU9-fd7jg_"
      }
    },
    {
      "cell_type": "markdown",
      "metadata": {
        "id": "OmSESMetj1sa"
      },
      "source": [
        "### Obtain Trained Inference Graph\n",
        "Once your training job is complete, you need to extract the newly trained inference graph, which will be later used to perform the object detection. This can be done as follows:"
      ]
    },
    {
      "cell_type": "code",
      "metadata": {
        "id": "zZJ_AF5MD3hZ"
      },
      "source": [
        "#clean output_directory if necessary to start fresh:\n",
        "\n",
        "# !rm -rf /content/object_detection_demo/fine_tuned_model/ \n",
        "# os.makedirs('/content/object_detection_demo_flow/fine_tuned_model/', exist_ok=True)"
      ],
      "execution_count": null,
      "outputs": []
    },
    {
      "cell_type": "code",
      "metadata": {
        "id": "DHoP90pUyKSq"
      },
      "source": [
        "import re\n",
        "import numpy as np\n",
        "\n",
        "#output_directory = './fine_tuned_model'\n",
        "output_directory = '/content/drive/MyDrive/Colab Notebooks/Android TFLITE Sign/MobilenetSS2 Sign Language/exportedModel'\n",
        "\n",
        "lst = os.listdir(model_dir)\n",
        "lst = [l for l in lst if 'model.ckpt-' in l and '.meta' in l]\n",
        "steps=np.array([int(re.findall('\\d+', l)[0]) for l in lst])\n",
        "last_model = lst[steps.argmax()].replace('.meta', '')\n",
        "\n",
        "last_model_path = os.path.join(model_dir, last_model)\n",
        "print(last_model_path)"
      ],
      "execution_count": null,
      "outputs": []
    },
    {
      "cell_type": "code",
      "source": [
        "!python '/content/drive/MyDrive/Colab Notebooks/Android TFLITE Sign/MobilenetSS2 Sign Language/models/research/object_detection/export_inference_graph.py' \\\n",
        "    --input_type=image_tensor \\\n",
        "    --pipeline_config_path='/content/drive/MyDrive/Colab Notebooks/Android TFLITE Sign/MobilenetSS2 Sign Language/models/research/object_detection/samples/configs/ssd_mobilenet_v2_coco.config' \\\n",
        "    --output_directory='/content/drive/MyDrive/Colab Notebooks/Android TFLITE Sign/MobilenetSS2 Sign Language/exportedModel' \\\n",
        "    --trained_checkpoint_prefix={last_model_path}"
      ],
      "metadata": {
        "id": "FOWa0kPi9eNi"
      },
      "execution_count": null,
      "outputs": []
    },
    {
      "cell_type": "code",
      "source": [
        "!ls '/content/drive/MyDrive/Colab Notebooks/Android TFLITE Sign/MobilenetSS2 Sign Language/exportedModel'"
      ],
      "metadata": {
        "id": "iCGE-gtAq1EP"
      },
      "execution_count": null,
      "outputs": []
    },
    {
      "cell_type": "code",
      "source": [
        "!ls '/content/drive/MyDrive/Colab Notebooks/Android TFLITE Sign/MobilenetSS2 Sign Language/exportedModel/saved_model'"
      ],
      "metadata": {
        "id": "e-qZ52aSrSIB"
      },
      "execution_count": null,
      "outputs": []
    },
    {
      "cell_type": "markdown",
      "source": [
        "### Export TFlite SSD Model Graph"
      ],
      "metadata": {
        "id": "8c3aMtBt7TmY"
      }
    },
    {
      "cell_type": "code",
      "source": [
        "!python '/content/drive/MyDrive/Colab Notebooks/Android TFLITE Sign/MobilenetSS2 Sign Language/models/research/object_detection/export_tflite_ssd_graph.py' \\\n",
        "    --input_type=image_tensor \\\n",
        "    --pipeline_config_path='/content/drive/MyDrive/Colab Notebooks/Android TFLITE Sign/MobilenetSS2 Sign Language/models/research/object_detection/samples/configs/ssd_mobilenet_v2_coco.config' \\\n",
        "    --output_directory='/content/drive/MyDrive/Colab Notebooks/Android TFLITE Sign/MobilenetSS2 Sign Language/tflite_ssd_export_graph/' \\\n",
        "    --trained_checkpoint_prefix=\"training/model.ckpt-48400\""
      ],
      "metadata": {
        "id": "7gR4pLM5qufG"
      },
      "execution_count": null,
      "outputs": []
    },
    {
      "cell_type": "code",
      "source": [
        "!ls -l '/content/drive/MyDrive/Colab Notebooks/Android TFLITE Sign/MobilenetSS2 Sign Language/tflite_ssd_export_graph/'"
      ],
      "metadata": {
        "id": "MWu7hg9Eqzl-"
      },
      "execution_count": null,
      "outputs": []
    },
    {
      "cell_type": "code",
      "metadata": {
        "id": "CnDo1lonKgFr"
      },
      "source": [
        "#import os\n",
        "#pb_fname = os.path.join(os.path.abspath(output_directory), \"saved_model/saved_model.pb\")\n",
        "#assert os.path.isfile(pb_fname), '`{}` not exist'.format(pb_fname)\n",
        "# !ls -alh {pb_fname}"
      ],
      "execution_count": null,
      "outputs": []
    },
    {
      "cell_type": "code",
      "metadata": {
        "id": "-ZHHqjjfMurV",
        "colab": {
          "base_uri": "https://localhost:8080/",
          "height": 17
        },
        "outputId": "768ee9ca-6a93-4406-d139-a605e7880d7d"
      },
      "source": [
        "#download frozen graph for posterity, you can keep this so you don't have to start over on training\n",
        "#from google.colab import files\n",
        "#files.download(pb_fname)"
      ],
      "execution_count": null,
      "outputs": [
        {
          "output_type": "display_data",
          "data": {
            "text/plain": [
              "<IPython.core.display.Javascript object>"
            ],
            "application/javascript": [
              "\n",
              "    async function download(id, filename, size) {\n",
              "      if (!google.colab.kernel.accessAllowed) {\n",
              "        return;\n",
              "      }\n",
              "      const div = document.createElement('div');\n",
              "      const label = document.createElement('label');\n",
              "      label.textContent = `Downloading \"${filename}\": `;\n",
              "      div.appendChild(label);\n",
              "      const progress = document.createElement('progress');\n",
              "      progress.max = size;\n",
              "      div.appendChild(progress);\n",
              "      document.body.appendChild(div);\n",
              "\n",
              "      const buffers = [];\n",
              "      let downloaded = 0;\n",
              "\n",
              "      const channel = await google.colab.kernel.comms.open(id);\n",
              "      // Send a message to notify the kernel that we're ready.\n",
              "      channel.send({})\n",
              "\n",
              "      for await (const message of channel.messages) {\n",
              "        // Send a message to notify the kernel that we're ready.\n",
              "        channel.send({})\n",
              "        if (message.buffers) {\n",
              "          for (const buffer of message.buffers) {\n",
              "            buffers.push(buffer);\n",
              "            downloaded += buffer.byteLength;\n",
              "            progress.value = downloaded;\n",
              "          }\n",
              "        }\n",
              "      }\n",
              "      const blob = new Blob(buffers, {type: 'application/binary'});\n",
              "      const a = document.createElement('a');\n",
              "      a.href = window.URL.createObjectURL(blob);\n",
              "      a.download = filename;\n",
              "      div.appendChild(a);\n",
              "      a.click();\n",
              "      div.remove();\n",
              "    }\n",
              "  "
            ]
          },
          "metadata": {}
        },
        {
          "output_type": "display_data",
          "data": {
            "text/plain": [
              "<IPython.core.display.Javascript object>"
            ],
            "application/javascript": [
              "download(\"download_ca5b623e-f509-4fc3-8553-f02c1316eeee\", \"saved_model.pb\", 21358853)"
            ]
          },
          "metadata": {}
        }
      ]
    },
    {
      "cell_type": "markdown",
      "source": [
        "### Convert Model Graph to TFLite Model File"
      ],
      "metadata": {
        "id": "oBQREcug7eLG"
      }
    },
    {
      "cell_type": "markdown",
      "source": [
        "For integrating the model in the Android application we will need to export the model to a Tensorflow lite model type"
      ],
      "metadata": {
        "id": "qAYiSSivuJ2V"
      }
    },
    {
      "cell_type": "code",
      "source": [
        "!tflite_convert \\\n",
        "--graph_def_file '/content/drive/MyDrive/Colab Notebooks/Android TFLITE Sign/MobilenetSS2 Sign Language/tflite_ssd_export_graph/tflite_graph.pb' \\\n",
        "--output_file '/content/drive/MyDrive/Colab Notebooks/Android TFLITE Sign/MobilenetSS2 Sign Language/tflite_ssd_export_graph/model.tflite' \\\n",
        "--output_format \"TFLITE\" \\\n",
        "--input_arrays \"normalized_input_image_tensor\" \\\n",
        "--input_shapes \"1,300,300,3\" \\\n",
        "--inference_type \"FLOAT\" \\\n",
        "--output_arrays \"TFLite_Detection_PostProcess,TFLite_Detection_PostProcess:1,TFLite_Detection_PostProcess:2,TFLite_Detection_PostProcess:3\" \\\n",
        "--allow_custom_ops"
      ],
      "metadata": {
        "id": "iU1F2LFpuWfw"
      },
      "execution_count": null,
      "outputs": []
    },
    {
      "cell_type": "code",
      "source": [
        "!ls '/content/drive/MyDrive/Colab Notebooks/Android TFLITE Sign/MobilenetSS2 Sign Language/tflite_ssd_export_graph/'"
      ],
      "metadata": {
        "id": "ow60CocZuWOx"
      },
      "execution_count": null,
      "outputs": []
    }
  ]
}